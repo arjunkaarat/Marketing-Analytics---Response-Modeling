{
 "cells": [
  {
   "cell_type": "markdown",
   "metadata": {},
   "source": [
    "# Importing Libraries"
   ]
  },
  {
   "cell_type": "code",
   "execution_count": 1,
   "metadata": {},
   "outputs": [
    {
     "name": "stderr",
     "output_type": "stream",
     "text": [
      "C:\\Users\\arjun\\anaconda3\\lib\\site-packages\\pandas\\core\\computation\\expressions.py:20: UserWarning: Pandas requires version '2.7.3' or newer of 'numexpr' (version '2.7.1' currently installed).\n",
      "  from pandas.core.computation.check import NUMEXPR_INSTALLED\n"
     ]
    }
   ],
   "source": [
    "import numpy as np\n",
    "import pandas as pd\n",
    "import matplotlib.pyplot as plt\n",
    "import seaborn as sns"
   ]
  },
  {
   "cell_type": "markdown",
   "metadata": {},
   "source": [
    "# Importing the Data for ML Project"
   ]
  },
  {
   "cell_type": "code",
   "execution_count": 40,
   "metadata": {},
   "outputs": [],
   "source": [
    "df=pd.read_excel('marketing_campaign.xlsx')"
   ]
  },
  {
   "cell_type": "code",
   "execution_count": 41,
   "metadata": {},
   "outputs": [
    {
     "data": {
      "text/plain": [
       "(2240, 29)"
      ]
     },
     "execution_count": 41,
     "metadata": {},
     "output_type": "execute_result"
    }
   ],
   "source": [
    "df.shape"
   ]
  },
  {
   "cell_type": "code",
   "execution_count": 42,
   "metadata": {},
   "outputs": [
    {
     "data": {
      "text/html": [
       "<div>\n",
       "<style scoped>\n",
       "    .dataframe tbody tr th:only-of-type {\n",
       "        vertical-align: middle;\n",
       "    }\n",
       "\n",
       "    .dataframe tbody tr th {\n",
       "        vertical-align: top;\n",
       "    }\n",
       "\n",
       "    .dataframe thead th {\n",
       "        text-align: right;\n",
       "    }\n",
       "</style>\n",
       "<table border=\"1\" class=\"dataframe\">\n",
       "  <thead>\n",
       "    <tr style=\"text-align: right;\">\n",
       "      <th></th>\n",
       "      <th>ID</th>\n",
       "      <th>Year_Birth</th>\n",
       "      <th>Education</th>\n",
       "      <th>Marital_Status</th>\n",
       "      <th>Income</th>\n",
       "      <th>Kidhome</th>\n",
       "      <th>Teenhome</th>\n",
       "      <th>Dt_Customer</th>\n",
       "      <th>Recency</th>\n",
       "      <th>MntWines</th>\n",
       "      <th>MntFruits</th>\n",
       "      <th>MntMeatProducts</th>\n",
       "      <th>MntFishProducts</th>\n",
       "      <th>MntSweetProducts</th>\n",
       "      <th>MntGoldProds</th>\n",
       "      <th>NumDealsPurchases</th>\n",
       "      <th>NumWebPurchases</th>\n",
       "      <th>NumCatalogPurchases</th>\n",
       "      <th>NumStorePurchases</th>\n",
       "      <th>NumWebVisitsMonth</th>\n",
       "      <th>AcceptedCmp3</th>\n",
       "      <th>AcceptedCmp4</th>\n",
       "      <th>AcceptedCmp5</th>\n",
       "      <th>AcceptedCmp1</th>\n",
       "      <th>AcceptedCmp2</th>\n",
       "      <th>Complain</th>\n",
       "      <th>Z_CostContact</th>\n",
       "      <th>Z_Revenue</th>\n",
       "      <th>Response</th>\n",
       "    </tr>\n",
       "  </thead>\n",
       "  <tbody>\n",
       "    <tr>\n",
       "      <th>0</th>\n",
       "      <td>5524</td>\n",
       "      <td>1957</td>\n",
       "      <td>Graduation</td>\n",
       "      <td>Single</td>\n",
       "      <td>58138.0</td>\n",
       "      <td>0</td>\n",
       "      <td>0</td>\n",
       "      <td>2012-09-04</td>\n",
       "      <td>58</td>\n",
       "      <td>635</td>\n",
       "      <td>88</td>\n",
       "      <td>546</td>\n",
       "      <td>172</td>\n",
       "      <td>88</td>\n",
       "      <td>88</td>\n",
       "      <td>3</td>\n",
       "      <td>8</td>\n",
       "      <td>10</td>\n",
       "      <td>4</td>\n",
       "      <td>7</td>\n",
       "      <td>0</td>\n",
       "      <td>0</td>\n",
       "      <td>0</td>\n",
       "      <td>0</td>\n",
       "      <td>0</td>\n",
       "      <td>0</td>\n",
       "      <td>3</td>\n",
       "      <td>11</td>\n",
       "      <td>1</td>\n",
       "    </tr>\n",
       "    <tr>\n",
       "      <th>1</th>\n",
       "      <td>2174</td>\n",
       "      <td>1954</td>\n",
       "      <td>Graduation</td>\n",
       "      <td>Single</td>\n",
       "      <td>46344.0</td>\n",
       "      <td>1</td>\n",
       "      <td>1</td>\n",
       "      <td>2014-03-08</td>\n",
       "      <td>38</td>\n",
       "      <td>11</td>\n",
       "      <td>1</td>\n",
       "      <td>6</td>\n",
       "      <td>2</td>\n",
       "      <td>1</td>\n",
       "      <td>6</td>\n",
       "      <td>2</td>\n",
       "      <td>1</td>\n",
       "      <td>1</td>\n",
       "      <td>2</td>\n",
       "      <td>5</td>\n",
       "      <td>0</td>\n",
       "      <td>0</td>\n",
       "      <td>0</td>\n",
       "      <td>0</td>\n",
       "      <td>0</td>\n",
       "      <td>0</td>\n",
       "      <td>3</td>\n",
       "      <td>11</td>\n",
       "      <td>0</td>\n",
       "    </tr>\n",
       "    <tr>\n",
       "      <th>2</th>\n",
       "      <td>4141</td>\n",
       "      <td>1965</td>\n",
       "      <td>Graduation</td>\n",
       "      <td>Together</td>\n",
       "      <td>71613.0</td>\n",
       "      <td>0</td>\n",
       "      <td>0</td>\n",
       "      <td>2013-08-21</td>\n",
       "      <td>26</td>\n",
       "      <td>426</td>\n",
       "      <td>49</td>\n",
       "      <td>127</td>\n",
       "      <td>111</td>\n",
       "      <td>21</td>\n",
       "      <td>42</td>\n",
       "      <td>1</td>\n",
       "      <td>8</td>\n",
       "      <td>2</td>\n",
       "      <td>10</td>\n",
       "      <td>4</td>\n",
       "      <td>0</td>\n",
       "      <td>0</td>\n",
       "      <td>0</td>\n",
       "      <td>0</td>\n",
       "      <td>0</td>\n",
       "      <td>0</td>\n",
       "      <td>3</td>\n",
       "      <td>11</td>\n",
       "      <td>0</td>\n",
       "    </tr>\n",
       "    <tr>\n",
       "      <th>3</th>\n",
       "      <td>6182</td>\n",
       "      <td>1984</td>\n",
       "      <td>Graduation</td>\n",
       "      <td>Together</td>\n",
       "      <td>26646.0</td>\n",
       "      <td>1</td>\n",
       "      <td>0</td>\n",
       "      <td>2014-02-10</td>\n",
       "      <td>26</td>\n",
       "      <td>11</td>\n",
       "      <td>4</td>\n",
       "      <td>20</td>\n",
       "      <td>10</td>\n",
       "      <td>3</td>\n",
       "      <td>5</td>\n",
       "      <td>2</td>\n",
       "      <td>2</td>\n",
       "      <td>0</td>\n",
       "      <td>4</td>\n",
       "      <td>6</td>\n",
       "      <td>0</td>\n",
       "      <td>0</td>\n",
       "      <td>0</td>\n",
       "      <td>0</td>\n",
       "      <td>0</td>\n",
       "      <td>0</td>\n",
       "      <td>3</td>\n",
       "      <td>11</td>\n",
       "      <td>0</td>\n",
       "    </tr>\n",
       "    <tr>\n",
       "      <th>4</th>\n",
       "      <td>5324</td>\n",
       "      <td>1981</td>\n",
       "      <td>PhD</td>\n",
       "      <td>Married</td>\n",
       "      <td>58293.0</td>\n",
       "      <td>1</td>\n",
       "      <td>0</td>\n",
       "      <td>2014-01-19</td>\n",
       "      <td>94</td>\n",
       "      <td>173</td>\n",
       "      <td>43</td>\n",
       "      <td>118</td>\n",
       "      <td>46</td>\n",
       "      <td>27</td>\n",
       "      <td>15</td>\n",
       "      <td>5</td>\n",
       "      <td>5</td>\n",
       "      <td>3</td>\n",
       "      <td>6</td>\n",
       "      <td>5</td>\n",
       "      <td>0</td>\n",
       "      <td>0</td>\n",
       "      <td>0</td>\n",
       "      <td>0</td>\n",
       "      <td>0</td>\n",
       "      <td>0</td>\n",
       "      <td>3</td>\n",
       "      <td>11</td>\n",
       "      <td>0</td>\n",
       "    </tr>\n",
       "  </tbody>\n",
       "</table>\n",
       "</div>"
      ],
      "text/plain": [
       "     ID  Year_Birth   Education Marital_Status   Income  Kidhome  Teenhome  \\\n",
       "0  5524        1957  Graduation         Single  58138.0        0         0   \n",
       "1  2174        1954  Graduation         Single  46344.0        1         1   \n",
       "2  4141        1965  Graduation       Together  71613.0        0         0   \n",
       "3  6182        1984  Graduation       Together  26646.0        1         0   \n",
       "4  5324        1981         PhD        Married  58293.0        1         0   \n",
       "\n",
       "  Dt_Customer  Recency  MntWines  MntFruits  MntMeatProducts  MntFishProducts  \\\n",
       "0  2012-09-04       58       635         88              546              172   \n",
       "1  2014-03-08       38        11          1                6                2   \n",
       "2  2013-08-21       26       426         49              127              111   \n",
       "3  2014-02-10       26        11          4               20               10   \n",
       "4  2014-01-19       94       173         43              118               46   \n",
       "\n",
       "   MntSweetProducts  MntGoldProds  NumDealsPurchases  NumWebPurchases  \\\n",
       "0                88            88                  3                8   \n",
       "1                 1             6                  2                1   \n",
       "2                21            42                  1                8   \n",
       "3                 3             5                  2                2   \n",
       "4                27            15                  5                5   \n",
       "\n",
       "   NumCatalogPurchases  NumStorePurchases  NumWebVisitsMonth  AcceptedCmp3  \\\n",
       "0                   10                  4                  7             0   \n",
       "1                    1                  2                  5             0   \n",
       "2                    2                 10                  4             0   \n",
       "3                    0                  4                  6             0   \n",
       "4                    3                  6                  5             0   \n",
       "\n",
       "   AcceptedCmp4  AcceptedCmp5  AcceptedCmp1  AcceptedCmp2  Complain  \\\n",
       "0             0             0             0             0         0   \n",
       "1             0             0             0             0         0   \n",
       "2             0             0             0             0         0   \n",
       "3             0             0             0             0         0   \n",
       "4             0             0             0             0         0   \n",
       "\n",
       "   Z_CostContact  Z_Revenue  Response  \n",
       "0              3         11         1  \n",
       "1              3         11         0  \n",
       "2              3         11         0  \n",
       "3              3         11         0  \n",
       "4              3         11         0  "
      ]
     },
     "execution_count": 42,
     "metadata": {},
     "output_type": "execute_result"
    }
   ],
   "source": [
    "df.head()"
   ]
  },
  {
   "cell_type": "markdown",
   "metadata": {},
   "source": [
    "# Setting Display options to ensure feature name visibility"
   ]
  },
  {
   "cell_type": "code",
   "execution_count": 43,
   "metadata": {},
   "outputs": [],
   "source": [
    "pd.set_option('display.max_columns',None)"
   ]
  },
  {
   "cell_type": "markdown",
   "metadata": {},
   "source": [
    "# Warning Suppression "
   ]
  },
  {
   "cell_type": "code",
   "execution_count": 44,
   "metadata": {},
   "outputs": [],
   "source": [
    "import warnings\n",
    "warnings.filterwarnings('ignore')"
   ]
  },
  {
   "cell_type": "markdown",
   "metadata": {},
   "source": [
    "# Drop ID Feature from the dataset"
   ]
  },
  {
   "cell_type": "code",
   "execution_count": 45,
   "metadata": {},
   "outputs": [],
   "source": [
    "df=df.drop(['ID'],axis=1)"
   ]
  },
  {
   "cell_type": "markdown",
   "metadata": {},
   "source": [
    "# Defining Target and Independent Features"
   ]
  },
  {
   "cell_type": "code",
   "execution_count": 46,
   "metadata": {},
   "outputs": [
    {
     "data": {
      "text/plain": [
       "pandas.core.series.Series"
      ]
     },
     "execution_count": 46,
     "metadata": {},
     "output_type": "execute_result"
    }
   ],
   "source": [
    "type(df['Response'])"
   ]
  },
  {
   "cell_type": "code",
   "execution_count": 47,
   "metadata": {},
   "outputs": [],
   "source": [
    "Y=df[['Response']]\n",
    "X=df.drop(['Response'],axis=1)"
   ]
  },
  {
   "cell_type": "markdown",
   "metadata": {},
   "source": [
    "# Get the Response Rate"
   ]
  },
  {
   "cell_type": "code",
   "execution_count": 48,
   "metadata": {},
   "outputs": [
    {
     "data": {
      "text/plain": [
       "Response    0.149107\n",
       "dtype: float64"
      ]
     },
     "execution_count": 48,
     "metadata": {},
     "output_type": "execute_result"
    }
   ],
   "source": [
    "Y.mean()"
   ]
  },
  {
   "cell_type": "markdown",
   "metadata": {},
   "source": [
    "# Build Derived Features - Customer Age and Tenure"
   ]
  },
  {
   "cell_type": "code",
   "execution_count": 49,
   "metadata": {},
   "outputs": [
    {
     "name": "stdout",
     "output_type": "stream",
     "text": [
      "2021-01-01 00:00:00\n"
     ]
    }
   ],
   "source": [
    "import datetime\n",
    "reference_date=datetime.datetime(2021,1,1)\n",
    "print(reference_date)"
   ]
  },
  {
   "cell_type": "code",
   "execution_count": 50,
   "metadata": {},
   "outputs": [],
   "source": [
    "X['Year_Birth']=pd.to_datetime(df['Year_Birth'], format='%Y')\n",
    "X['Age'] = (reference_date- X['Year_Birth']).astype('timedelta64[Y]')\n",
    "\n",
    "X['Dt_Customer']=pd.to_datetime(X['Dt_Customer'])\n",
    "X['Cust_Tenure'] = (reference_date- X['Dt_Customer']).astype('timedelta64[Y]')\n",
    "\n",
    "X=X.drop(['Year_Birth','Dt_Customer'],axis=1)"
   ]
  },
  {
   "cell_type": "code",
   "execution_count": 51,
   "metadata": {},
   "outputs": [
    {
     "data": {
      "text/html": [
       "<div>\n",
       "<style scoped>\n",
       "    .dataframe tbody tr th:only-of-type {\n",
       "        vertical-align: middle;\n",
       "    }\n",
       "\n",
       "    .dataframe tbody tr th {\n",
       "        vertical-align: top;\n",
       "    }\n",
       "\n",
       "    .dataframe thead th {\n",
       "        text-align: right;\n",
       "    }\n",
       "</style>\n",
       "<table border=\"1\" class=\"dataframe\">\n",
       "  <thead>\n",
       "    <tr style=\"text-align: right;\">\n",
       "      <th></th>\n",
       "      <th>Age</th>\n",
       "      <th>Cust_Tenure</th>\n",
       "    </tr>\n",
       "  </thead>\n",
       "  <tbody>\n",
       "    <tr>\n",
       "      <th>0</th>\n",
       "      <td>64.0</td>\n",
       "      <td>8.0</td>\n",
       "    </tr>\n",
       "    <tr>\n",
       "      <th>1</th>\n",
       "      <td>67.0</td>\n",
       "      <td>6.0</td>\n",
       "    </tr>\n",
       "    <tr>\n",
       "      <th>2</th>\n",
       "      <td>56.0</td>\n",
       "      <td>7.0</td>\n",
       "    </tr>\n",
       "    <tr>\n",
       "      <th>3</th>\n",
       "      <td>37.0</td>\n",
       "      <td>6.0</td>\n",
       "    </tr>\n",
       "    <tr>\n",
       "      <th>4</th>\n",
       "      <td>40.0</td>\n",
       "      <td>6.0</td>\n",
       "    </tr>\n",
       "  </tbody>\n",
       "</table>\n",
       "</div>"
      ],
      "text/plain": [
       "    Age  Cust_Tenure\n",
       "0  64.0          8.0\n",
       "1  67.0          6.0\n",
       "2  56.0          7.0\n",
       "3  37.0          6.0\n",
       "4  40.0          6.0"
      ]
     },
     "execution_count": 51,
     "metadata": {},
     "output_type": "execute_result"
    }
   ],
   "source": [
    "X[['Age','Cust_Tenure']].head()"
   ]
  },
  {
   "cell_type": "markdown",
   "metadata": {},
   "source": [
    "# Split features into Numerical and Categorical"
   ]
  },
  {
   "cell_type": "code",
   "execution_count": 52,
   "metadata": {},
   "outputs": [],
   "source": [
    "num=X.select_dtypes(include=\"number\")\n",
    "char=X.select_dtypes(include=\"object\")"
   ]
  },
  {
   "cell_type": "code",
   "execution_count": 53,
   "metadata": {},
   "outputs": [],
   "source": [
    "def unique_levels(x):\n",
    "    x=x.value_counts().count()\n",
    "    return(x)\n",
    "df_value_counts=pd.DataFrame(num.apply(lambda x : unique_levels(x)))"
   ]
  },
  {
   "cell_type": "code",
   "execution_count": 54,
   "metadata": {},
   "outputs": [
    {
     "data": {
      "text/html": [
       "<div>\n",
       "<style scoped>\n",
       "    .dataframe tbody tr th:only-of-type {\n",
       "        vertical-align: middle;\n",
       "    }\n",
       "\n",
       "    .dataframe tbody tr th {\n",
       "        vertical-align: top;\n",
       "    }\n",
       "\n",
       "    .dataframe thead th {\n",
       "        text-align: right;\n",
       "    }\n",
       "</style>\n",
       "<table border=\"1\" class=\"dataframe\">\n",
       "  <thead>\n",
       "    <tr style=\"text-align: right;\">\n",
       "      <th></th>\n",
       "      <th>feature_levels</th>\n",
       "    </tr>\n",
       "  </thead>\n",
       "  <tbody>\n",
       "    <tr>\n",
       "      <th>Income</th>\n",
       "      <td>1974</td>\n",
       "    </tr>\n",
       "    <tr>\n",
       "      <th>Kidhome</th>\n",
       "      <td>3</td>\n",
       "    </tr>\n",
       "    <tr>\n",
       "      <th>Teenhome</th>\n",
       "      <td>3</td>\n",
       "    </tr>\n",
       "    <tr>\n",
       "      <th>Recency</th>\n",
       "      <td>100</td>\n",
       "    </tr>\n",
       "    <tr>\n",
       "      <th>MntWines</th>\n",
       "      <td>776</td>\n",
       "    </tr>\n",
       "  </tbody>\n",
       "</table>\n",
       "</div>"
      ],
      "text/plain": [
       "          feature_levels\n",
       "Income              1974\n",
       "Kidhome                3\n",
       "Teenhome               3\n",
       "Recency              100\n",
       "MntWines             776"
      ]
     },
     "execution_count": 54,
     "metadata": {},
     "output_type": "execute_result"
    }
   ],
   "source": [
    "df_value_counts.columns=['feature_levels']\n",
    "df_value_counts.head()"
   ]
  },
  {
   "cell_type": "code",
   "execution_count": 55,
   "metadata": {},
   "outputs": [
    {
     "data": {
      "text/plain": [
       "Kidhome                  int64\n",
       "Teenhome                 int64\n",
       "NumDealsPurchases        int64\n",
       "NumWebPurchases          int64\n",
       "NumCatalogPurchases      int64\n",
       "NumStorePurchases        int64\n",
       "NumWebVisitsMonth        int64\n",
       "AcceptedCmp3             int64\n",
       "AcceptedCmp4             int64\n",
       "AcceptedCmp5             int64\n",
       "AcceptedCmp1             int64\n",
       "AcceptedCmp2             int64\n",
       "Complain                 int64\n",
       "Z_CostContact            int64\n",
       "Z_Revenue                int64\n",
       "Cust_Tenure            float64\n",
       "dtype: object"
      ]
     },
     "execution_count": 55,
     "metadata": {},
     "output_type": "execute_result"
    }
   ],
   "source": [
    "slice1=df_value_counts.loc[df_value_counts['feature_levels']<=20]\n",
    "cat_list=slice1.index\n",
    "cat=num.loc[:,cat_list]\n",
    "cat.dtypes"
   ]
  },
  {
   "cell_type": "code",
   "execution_count": 56,
   "metadata": {},
   "outputs": [
    {
     "data": {
      "text/plain": [
       "Kidhome                object\n",
       "Teenhome               object\n",
       "NumDealsPurchases      object\n",
       "NumWebPurchases        object\n",
       "NumCatalogPurchases    object\n",
       "NumStorePurchases      object\n",
       "NumWebVisitsMonth      object\n",
       "AcceptedCmp3           object\n",
       "AcceptedCmp4           object\n",
       "AcceptedCmp5           object\n",
       "AcceptedCmp1           object\n",
       "AcceptedCmp2           object\n",
       "Complain               object\n",
       "Z_CostContact          object\n",
       "Z_Revenue              object\n",
       "Cust_Tenure            object\n",
       "dtype: object"
      ]
     },
     "execution_count": 56,
     "metadata": {},
     "output_type": "execute_result"
    }
   ],
   "source": [
    "def data_type_converter(x):\n",
    "    x=x.astype('object')\n",
    "    return(x)\n",
    "cat=cat.apply(lambda x : data_type_converter(x))\n",
    "cat.dtypes"
   ]
  },
  {
   "cell_type": "code",
   "execution_count": 57,
   "metadata": {},
   "outputs": [],
   "source": [
    "slice2=df_value_counts.loc[df_value_counts['feature_levels']>20]\n",
    "num_list=slice2.index\n",
    "num=num.loc[:,num_list]"
   ]
  },
  {
   "cell_type": "code",
   "execution_count": 58,
   "metadata": {},
   "outputs": [],
   "source": [
    "char=pd.concat([char,cat],axis=1,join=\"inner\")"
   ]
  },
  {
   "cell_type": "code",
   "execution_count": 59,
   "metadata": {},
   "outputs": [
    {
     "name": "stdout",
     "output_type": "stream",
     "text": [
      "The shape of numerical dataframe : (2240, 9)\n",
      "The shape of categorical datafrme : (2240, 18)\n"
     ]
    }
   ],
   "source": [
    "print (\"The shape of numerical dataframe :\",num.shape)\n",
    "print (\"The shape of categorical datafrme :\",char.shape)"
   ]
  },
  {
   "cell_type": "markdown",
   "metadata": {},
   "source": [
    "# Outlier Analysis of Numerical Features"
   ]
  },
  {
   "cell_type": "code",
   "execution_count": 60,
   "metadata": {
    "scrolled": true
   },
   "outputs": [
    {
     "data": {
      "text/html": [
       "<div>\n",
       "<style scoped>\n",
       "    .dataframe tbody tr th:only-of-type {\n",
       "        vertical-align: middle;\n",
       "    }\n",
       "\n",
       "    .dataframe tbody tr th {\n",
       "        vertical-align: top;\n",
       "    }\n",
       "\n",
       "    .dataframe thead th {\n",
       "        text-align: right;\n",
       "    }\n",
       "</style>\n",
       "<table border=\"1\" class=\"dataframe\">\n",
       "  <thead>\n",
       "    <tr style=\"text-align: right;\">\n",
       "      <th></th>\n",
       "      <th>Income</th>\n",
       "      <th>Recency</th>\n",
       "      <th>MntWines</th>\n",
       "      <th>MntFruits</th>\n",
       "      <th>MntMeatProducts</th>\n",
       "      <th>MntFishProducts</th>\n",
       "      <th>MntSweetProducts</th>\n",
       "      <th>MntGoldProds</th>\n",
       "      <th>Age</th>\n",
       "    </tr>\n",
       "  </thead>\n",
       "  <tbody>\n",
       "    <tr>\n",
       "      <th>count</th>\n",
       "      <td>2216.000000</td>\n",
       "      <td>2240.000000</td>\n",
       "      <td>2240.000000</td>\n",
       "      <td>2240.000000</td>\n",
       "      <td>2240.000000</td>\n",
       "      <td>2240.000000</td>\n",
       "      <td>2240.000000</td>\n",
       "      <td>2240.000000</td>\n",
       "      <td>2240.000000</td>\n",
       "    </tr>\n",
       "    <tr>\n",
       "      <th>mean</th>\n",
       "      <td>52247.251354</td>\n",
       "      <td>49.109375</td>\n",
       "      <td>303.935714</td>\n",
       "      <td>26.302232</td>\n",
       "      <td>166.950000</td>\n",
       "      <td>37.525446</td>\n",
       "      <td>27.062946</td>\n",
       "      <td>44.021875</td>\n",
       "      <td>52.193750</td>\n",
       "    </tr>\n",
       "    <tr>\n",
       "      <th>std</th>\n",
       "      <td>25173.076661</td>\n",
       "      <td>28.962453</td>\n",
       "      <td>336.597393</td>\n",
       "      <td>39.773434</td>\n",
       "      <td>225.715373</td>\n",
       "      <td>54.628979</td>\n",
       "      <td>41.280498</td>\n",
       "      <td>52.167439</td>\n",
       "      <td>11.981263</td>\n",
       "    </tr>\n",
       "    <tr>\n",
       "      <th>min</th>\n",
       "      <td>1730.000000</td>\n",
       "      <td>0.000000</td>\n",
       "      <td>0.000000</td>\n",
       "      <td>0.000000</td>\n",
       "      <td>0.000000</td>\n",
       "      <td>0.000000</td>\n",
       "      <td>0.000000</td>\n",
       "      <td>0.000000</td>\n",
       "      <td>25.000000</td>\n",
       "    </tr>\n",
       "    <tr>\n",
       "      <th>1%</th>\n",
       "      <td>7579.200000</td>\n",
       "      <td>0.000000</td>\n",
       "      <td>1.000000</td>\n",
       "      <td>0.000000</td>\n",
       "      <td>2.000000</td>\n",
       "      <td>0.000000</td>\n",
       "      <td>0.000000</td>\n",
       "      <td>0.000000</td>\n",
       "      <td>29.000000</td>\n",
       "    </tr>\n",
       "    <tr>\n",
       "      <th>5%</th>\n",
       "      <td>18985.500000</td>\n",
       "      <td>4.000000</td>\n",
       "      <td>3.000000</td>\n",
       "      <td>0.000000</td>\n",
       "      <td>4.000000</td>\n",
       "      <td>0.000000</td>\n",
       "      <td>0.000000</td>\n",
       "      <td>1.000000</td>\n",
       "      <td>33.000000</td>\n",
       "    </tr>\n",
       "    <tr>\n",
       "      <th>10%</th>\n",
       "      <td>24117.500000</td>\n",
       "      <td>9.000000</td>\n",
       "      <td>6.000000</td>\n",
       "      <td>0.000000</td>\n",
       "      <td>7.000000</td>\n",
       "      <td>0.000000</td>\n",
       "      <td>0.000000</td>\n",
       "      <td>3.000000</td>\n",
       "      <td>37.000000</td>\n",
       "    </tr>\n",
       "    <tr>\n",
       "      <th>25%</th>\n",
       "      <td>35303.000000</td>\n",
       "      <td>24.000000</td>\n",
       "      <td>23.750000</td>\n",
       "      <td>1.000000</td>\n",
       "      <td>16.000000</td>\n",
       "      <td>3.000000</td>\n",
       "      <td>1.000000</td>\n",
       "      <td>9.000000</td>\n",
       "      <td>44.000000</td>\n",
       "    </tr>\n",
       "    <tr>\n",
       "      <th>50%</th>\n",
       "      <td>51381.500000</td>\n",
       "      <td>49.000000</td>\n",
       "      <td>173.500000</td>\n",
       "      <td>8.000000</td>\n",
       "      <td>67.000000</td>\n",
       "      <td>12.000000</td>\n",
       "      <td>8.000000</td>\n",
       "      <td>24.000000</td>\n",
       "      <td>51.000000</td>\n",
       "    </tr>\n",
       "    <tr>\n",
       "      <th>75%</th>\n",
       "      <td>68522.000000</td>\n",
       "      <td>74.000000</td>\n",
       "      <td>504.250000</td>\n",
       "      <td>33.000000</td>\n",
       "      <td>232.000000</td>\n",
       "      <td>50.000000</td>\n",
       "      <td>33.000000</td>\n",
       "      <td>56.000000</td>\n",
       "      <td>62.000000</td>\n",
       "    </tr>\n",
       "    <tr>\n",
       "      <th>85%</th>\n",
       "      <td>75744.750000</td>\n",
       "      <td>84.000000</td>\n",
       "      <td>693.000000</td>\n",
       "      <td>61.000000</td>\n",
       "      <td>396.150000</td>\n",
       "      <td>90.000000</td>\n",
       "      <td>61.000000</td>\n",
       "      <td>92.000000</td>\n",
       "      <td>66.000000</td>\n",
       "    </tr>\n",
       "    <tr>\n",
       "      <th>90%</th>\n",
       "      <td>79844.000000</td>\n",
       "      <td>89.000000</td>\n",
       "      <td>822.100000</td>\n",
       "      <td>83.000000</td>\n",
       "      <td>499.000000</td>\n",
       "      <td>120.000000</td>\n",
       "      <td>89.000000</td>\n",
       "      <td>122.000000</td>\n",
       "      <td>69.000000</td>\n",
       "    </tr>\n",
       "    <tr>\n",
       "      <th>99%</th>\n",
       "      <td>94458.800000</td>\n",
       "      <td>98.000000</td>\n",
       "      <td>1285.000000</td>\n",
       "      <td>172.000000</td>\n",
       "      <td>915.000000</td>\n",
       "      <td>226.220000</td>\n",
       "      <td>177.220000</td>\n",
       "      <td>227.000000</td>\n",
       "      <td>76.000000</td>\n",
       "    </tr>\n",
       "    <tr>\n",
       "      <th>max</th>\n",
       "      <td>666666.000000</td>\n",
       "      <td>99.000000</td>\n",
       "      <td>1493.000000</td>\n",
       "      <td>199.000000</td>\n",
       "      <td>1725.000000</td>\n",
       "      <td>259.000000</td>\n",
       "      <td>263.000000</td>\n",
       "      <td>362.000000</td>\n",
       "      <td>127.000000</td>\n",
       "    </tr>\n",
       "  </tbody>\n",
       "</table>\n",
       "</div>"
      ],
      "text/plain": [
       "              Income      Recency     MntWines    MntFruits  MntMeatProducts  \\\n",
       "count    2216.000000  2240.000000  2240.000000  2240.000000      2240.000000   \n",
       "mean    52247.251354    49.109375   303.935714    26.302232       166.950000   \n",
       "std     25173.076661    28.962453   336.597393    39.773434       225.715373   \n",
       "min      1730.000000     0.000000     0.000000     0.000000         0.000000   \n",
       "1%       7579.200000     0.000000     1.000000     0.000000         2.000000   \n",
       "5%      18985.500000     4.000000     3.000000     0.000000         4.000000   \n",
       "10%     24117.500000     9.000000     6.000000     0.000000         7.000000   \n",
       "25%     35303.000000    24.000000    23.750000     1.000000        16.000000   \n",
       "50%     51381.500000    49.000000   173.500000     8.000000        67.000000   \n",
       "75%     68522.000000    74.000000   504.250000    33.000000       232.000000   \n",
       "85%     75744.750000    84.000000   693.000000    61.000000       396.150000   \n",
       "90%     79844.000000    89.000000   822.100000    83.000000       499.000000   \n",
       "99%     94458.800000    98.000000  1285.000000   172.000000       915.000000   \n",
       "max    666666.000000    99.000000  1493.000000   199.000000      1725.000000   \n",
       "\n",
       "       MntFishProducts  MntSweetProducts  MntGoldProds          Age  \n",
       "count      2240.000000       2240.000000   2240.000000  2240.000000  \n",
       "mean         37.525446         27.062946     44.021875    52.193750  \n",
       "std          54.628979         41.280498     52.167439    11.981263  \n",
       "min           0.000000          0.000000      0.000000    25.000000  \n",
       "1%            0.000000          0.000000      0.000000    29.000000  \n",
       "5%            0.000000          0.000000      1.000000    33.000000  \n",
       "10%           0.000000          0.000000      3.000000    37.000000  \n",
       "25%           3.000000          1.000000      9.000000    44.000000  \n",
       "50%          12.000000          8.000000     24.000000    51.000000  \n",
       "75%          50.000000         33.000000     56.000000    62.000000  \n",
       "85%          90.000000         61.000000     92.000000    66.000000  \n",
       "90%         120.000000         89.000000    122.000000    69.000000  \n",
       "99%         226.220000        177.220000    227.000000    76.000000  \n",
       "max         259.000000        263.000000    362.000000   127.000000  "
      ]
     },
     "execution_count": 60,
     "metadata": {},
     "output_type": "execute_result"
    }
   ],
   "source": [
    "num.describe(percentiles=[0.01,0.05,0.10,0.25,0.50,0.75,0.85,0.9,0.99])"
   ]
  },
  {
   "cell_type": "markdown",
   "metadata": {},
   "source": [
    "# Capping and Flooring of outliers"
   ]
  },
  {
   "cell_type": "code",
   "execution_count": 61,
   "metadata": {},
   "outputs": [],
   "source": [
    "def outlier_cap(x):\n",
    "    x=x.clip(lower=x.quantile(0.01))\n",
    "    x=x.clip(upper=x.quantile(0.99))\n",
    "    return(x)"
   ]
  },
  {
   "cell_type": "code",
   "execution_count": 62,
   "metadata": {},
   "outputs": [],
   "source": [
    "num=num.apply(lambda x : outlier_cap(x))"
   ]
  },
  {
   "cell_type": "code",
   "execution_count": 63,
   "metadata": {
    "scrolled": true
   },
   "outputs": [
    {
     "data": {
      "text/html": [
       "<div>\n",
       "<style scoped>\n",
       "    .dataframe tbody tr th:only-of-type {\n",
       "        vertical-align: middle;\n",
       "    }\n",
       "\n",
       "    .dataframe tbody tr th {\n",
       "        vertical-align: top;\n",
       "    }\n",
       "\n",
       "    .dataframe thead th {\n",
       "        text-align: right;\n",
       "    }\n",
       "</style>\n",
       "<table border=\"1\" class=\"dataframe\">\n",
       "  <thead>\n",
       "    <tr style=\"text-align: right;\">\n",
       "      <th></th>\n",
       "      <th>Income</th>\n",
       "      <th>Recency</th>\n",
       "      <th>MntWines</th>\n",
       "      <th>MntFruits</th>\n",
       "      <th>MntMeatProducts</th>\n",
       "      <th>MntFishProducts</th>\n",
       "      <th>MntSweetProducts</th>\n",
       "      <th>MntGoldProds</th>\n",
       "      <th>Age</th>\n",
       "    </tr>\n",
       "  </thead>\n",
       "  <tbody>\n",
       "    <tr>\n",
       "      <th>count</th>\n",
       "      <td>2216.000000</td>\n",
       "      <td>2240.000000</td>\n",
       "      <td>2240.000000</td>\n",
       "      <td>2240.000000</td>\n",
       "      <td>2240.000000</td>\n",
       "      <td>2240.000000</td>\n",
       "      <td>2240.000000</td>\n",
       "      <td>2240.000000</td>\n",
       "      <td>2240.000000</td>\n",
       "    </tr>\n",
       "    <tr>\n",
       "      <th>mean</th>\n",
       "      <td>51770.277076</td>\n",
       "      <td>49.101786</td>\n",
       "      <td>302.909821</td>\n",
       "      <td>26.158482</td>\n",
       "      <td>165.075446</td>\n",
       "      <td>37.351366</td>\n",
       "      <td>26.873687</td>\n",
       "      <td>43.770089</td>\n",
       "      <td>52.132143</td>\n",
       "    </tr>\n",
       "    <tr>\n",
       "      <th>std</th>\n",
       "      <td>20728.704775</td>\n",
       "      <td>28.949501</td>\n",
       "      <td>333.316827</td>\n",
       "      <td>39.208270</td>\n",
       "      <td>216.547373</td>\n",
       "      <td>53.985910</td>\n",
       "      <td>40.484302</td>\n",
       "      <td>51.118104</td>\n",
       "      <td>11.666094</td>\n",
       "    </tr>\n",
       "    <tr>\n",
       "      <th>min</th>\n",
       "      <td>7579.200000</td>\n",
       "      <td>0.000000</td>\n",
       "      <td>1.000000</td>\n",
       "      <td>0.000000</td>\n",
       "      <td>2.000000</td>\n",
       "      <td>0.000000</td>\n",
       "      <td>0.000000</td>\n",
       "      <td>0.000000</td>\n",
       "      <td>29.000000</td>\n",
       "    </tr>\n",
       "    <tr>\n",
       "      <th>1%</th>\n",
       "      <td>7646.520000</td>\n",
       "      <td>0.000000</td>\n",
       "      <td>1.000000</td>\n",
       "      <td>0.000000</td>\n",
       "      <td>2.000000</td>\n",
       "      <td>0.000000</td>\n",
       "      <td>0.000000</td>\n",
       "      <td>0.000000</td>\n",
       "      <td>29.000000</td>\n",
       "    </tr>\n",
       "    <tr>\n",
       "      <th>5%</th>\n",
       "      <td>18985.500000</td>\n",
       "      <td>4.000000</td>\n",
       "      <td>3.000000</td>\n",
       "      <td>0.000000</td>\n",
       "      <td>4.000000</td>\n",
       "      <td>0.000000</td>\n",
       "      <td>0.000000</td>\n",
       "      <td>1.000000</td>\n",
       "      <td>33.000000</td>\n",
       "    </tr>\n",
       "    <tr>\n",
       "      <th>10%</th>\n",
       "      <td>24117.500000</td>\n",
       "      <td>9.000000</td>\n",
       "      <td>6.000000</td>\n",
       "      <td>0.000000</td>\n",
       "      <td>7.000000</td>\n",
       "      <td>0.000000</td>\n",
       "      <td>0.000000</td>\n",
       "      <td>3.000000</td>\n",
       "      <td>37.000000</td>\n",
       "    </tr>\n",
       "    <tr>\n",
       "      <th>25%</th>\n",
       "      <td>35303.000000</td>\n",
       "      <td>24.000000</td>\n",
       "      <td>23.750000</td>\n",
       "      <td>1.000000</td>\n",
       "      <td>16.000000</td>\n",
       "      <td>3.000000</td>\n",
       "      <td>1.000000</td>\n",
       "      <td>9.000000</td>\n",
       "      <td>44.000000</td>\n",
       "    </tr>\n",
       "    <tr>\n",
       "      <th>50%</th>\n",
       "      <td>51381.500000</td>\n",
       "      <td>49.000000</td>\n",
       "      <td>173.500000</td>\n",
       "      <td>8.000000</td>\n",
       "      <td>67.000000</td>\n",
       "      <td>12.000000</td>\n",
       "      <td>8.000000</td>\n",
       "      <td>24.000000</td>\n",
       "      <td>51.000000</td>\n",
       "    </tr>\n",
       "    <tr>\n",
       "      <th>75%</th>\n",
       "      <td>68522.000000</td>\n",
       "      <td>74.000000</td>\n",
       "      <td>504.250000</td>\n",
       "      <td>33.000000</td>\n",
       "      <td>232.000000</td>\n",
       "      <td>50.000000</td>\n",
       "      <td>33.000000</td>\n",
       "      <td>56.000000</td>\n",
       "      <td>62.000000</td>\n",
       "    </tr>\n",
       "    <tr>\n",
       "      <th>85%</th>\n",
       "      <td>75744.750000</td>\n",
       "      <td>84.000000</td>\n",
       "      <td>693.000000</td>\n",
       "      <td>61.000000</td>\n",
       "      <td>396.150000</td>\n",
       "      <td>90.000000</td>\n",
       "      <td>61.000000</td>\n",
       "      <td>92.000000</td>\n",
       "      <td>66.000000</td>\n",
       "    </tr>\n",
       "    <tr>\n",
       "      <th>90%</th>\n",
       "      <td>79844.000000</td>\n",
       "      <td>89.000000</td>\n",
       "      <td>822.100000</td>\n",
       "      <td>83.000000</td>\n",
       "      <td>499.000000</td>\n",
       "      <td>120.000000</td>\n",
       "      <td>89.000000</td>\n",
       "      <td>122.000000</td>\n",
       "      <td>69.000000</td>\n",
       "    </tr>\n",
       "    <tr>\n",
       "      <th>99%</th>\n",
       "      <td>94447.580000</td>\n",
       "      <td>98.000000</td>\n",
       "      <td>1285.000000</td>\n",
       "      <td>172.000000</td>\n",
       "      <td>915.000000</td>\n",
       "      <td>225.744200</td>\n",
       "      <td>176.744200</td>\n",
       "      <td>227.000000</td>\n",
       "      <td>76.000000</td>\n",
       "    </tr>\n",
       "    <tr>\n",
       "      <th>max</th>\n",
       "      <td>94458.800000</td>\n",
       "      <td>98.000000</td>\n",
       "      <td>1285.000000</td>\n",
       "      <td>172.000000</td>\n",
       "      <td>915.000000</td>\n",
       "      <td>226.220000</td>\n",
       "      <td>177.220000</td>\n",
       "      <td>227.000000</td>\n",
       "      <td>76.000000</td>\n",
       "    </tr>\n",
       "  </tbody>\n",
       "</table>\n",
       "</div>"
      ],
      "text/plain": [
       "             Income      Recency     MntWines    MntFruits  MntMeatProducts  \\\n",
       "count   2216.000000  2240.000000  2240.000000  2240.000000      2240.000000   \n",
       "mean   51770.277076    49.101786   302.909821    26.158482       165.075446   \n",
       "std    20728.704775    28.949501   333.316827    39.208270       216.547373   \n",
       "min     7579.200000     0.000000     1.000000     0.000000         2.000000   \n",
       "1%      7646.520000     0.000000     1.000000     0.000000         2.000000   \n",
       "5%     18985.500000     4.000000     3.000000     0.000000         4.000000   \n",
       "10%    24117.500000     9.000000     6.000000     0.000000         7.000000   \n",
       "25%    35303.000000    24.000000    23.750000     1.000000        16.000000   \n",
       "50%    51381.500000    49.000000   173.500000     8.000000        67.000000   \n",
       "75%    68522.000000    74.000000   504.250000    33.000000       232.000000   \n",
       "85%    75744.750000    84.000000   693.000000    61.000000       396.150000   \n",
       "90%    79844.000000    89.000000   822.100000    83.000000       499.000000   \n",
       "99%    94447.580000    98.000000  1285.000000   172.000000       915.000000   \n",
       "max    94458.800000    98.000000  1285.000000   172.000000       915.000000   \n",
       "\n",
       "       MntFishProducts  MntSweetProducts  MntGoldProds          Age  \n",
       "count      2240.000000       2240.000000   2240.000000  2240.000000  \n",
       "mean         37.351366         26.873687     43.770089    52.132143  \n",
       "std          53.985910         40.484302     51.118104    11.666094  \n",
       "min           0.000000          0.000000      0.000000    29.000000  \n",
       "1%            0.000000          0.000000      0.000000    29.000000  \n",
       "5%            0.000000          0.000000      1.000000    33.000000  \n",
       "10%           0.000000          0.000000      3.000000    37.000000  \n",
       "25%           3.000000          1.000000      9.000000    44.000000  \n",
       "50%          12.000000          8.000000     24.000000    51.000000  \n",
       "75%          50.000000         33.000000     56.000000    62.000000  \n",
       "85%          90.000000         61.000000     92.000000    66.000000  \n",
       "90%         120.000000         89.000000    122.000000    69.000000  \n",
       "99%         225.744200        176.744200    227.000000    76.000000  \n",
       "max         226.220000        177.220000    227.000000    76.000000  "
      ]
     },
     "execution_count": 63,
     "metadata": {},
     "output_type": "execute_result"
    }
   ],
   "source": [
    "num.describe(percentiles=[0.01,0.05,0.10,0.25,0.50,0.75,0.85,0.9,0.99])"
   ]
  },
  {
   "cell_type": "markdown",
   "metadata": {},
   "source": [
    "# Missing Value Handling - Numerical Features "
   ]
  },
  {
   "cell_type": "code",
   "execution_count": 64,
   "metadata": {},
   "outputs": [
    {
     "data": {
      "text/plain": [
       "Income              0.010714\n",
       "Recency             0.000000\n",
       "MntWines            0.000000\n",
       "MntFruits           0.000000\n",
       "MntMeatProducts     0.000000\n",
       "MntFishProducts     0.000000\n",
       "MntSweetProducts    0.000000\n",
       "MntGoldProds        0.000000\n",
       "Age                 0.000000\n",
       "dtype: float64"
      ]
     },
     "execution_count": 64,
     "metadata": {},
     "output_type": "execute_result"
    }
   ],
   "source": [
    "num.isnull().mean()"
   ]
  },
  {
   "cell_type": "markdown",
   "metadata": {},
   "source": [
    "# Missing Value Handling - Numerical Features (Imputation with Mean)"
   ]
  },
  {
   "cell_type": "code",
   "execution_count": 65,
   "metadata": {
    "scrolled": true
   },
   "outputs": [],
   "source": [
    "from sklearn.impute import SimpleImputer\n",
    "imputer = SimpleImputer(missing_values=np.nan, strategy='mean')\n",
    "num_1=pd.DataFrame(imputer.fit_transform(num),index=num.index,columns=num.columns)"
   ]
  },
  {
   "cell_type": "code",
   "execution_count": 66,
   "metadata": {
    "scrolled": true
   },
   "outputs": [
    {
     "data": {
      "text/plain": [
       "Income              0.0\n",
       "Recency             0.0\n",
       "MntWines            0.0\n",
       "MntFruits           0.0\n",
       "MntMeatProducts     0.0\n",
       "MntFishProducts     0.0\n",
       "MntSweetProducts    0.0\n",
       "MntGoldProds        0.0\n",
       "Age                 0.0\n",
       "dtype: float64"
      ]
     },
     "execution_count": 66,
     "metadata": {},
     "output_type": "execute_result"
    }
   ],
   "source": [
    "num_1.isnull().mean()"
   ]
  },
  {
   "cell_type": "markdown",
   "metadata": {},
   "source": [
    "# Missing Value Handling - Categorical Features (Remove >25% Missing Rows)"
   ]
  },
  {
   "cell_type": "code",
   "execution_count": 67,
   "metadata": {},
   "outputs": [
    {
     "data": {
      "text/plain": [
       "Education              0.0\n",
       "Marital_Status         0.0\n",
       "Kidhome                0.0\n",
       "Teenhome               0.0\n",
       "NumDealsPurchases      0.0\n",
       "NumWebPurchases        0.0\n",
       "NumCatalogPurchases    0.0\n",
       "NumStorePurchases      0.0\n",
       "NumWebVisitsMonth      0.0\n",
       "AcceptedCmp3           0.0\n",
       "AcceptedCmp4           0.0\n",
       "AcceptedCmp5           0.0\n",
       "AcceptedCmp1           0.0\n",
       "AcceptedCmp2           0.0\n",
       "Complain               0.0\n",
       "Z_CostContact          0.0\n",
       "Z_Revenue              0.0\n",
       "Cust_Tenure            0.0\n",
       "dtype: float64"
      ]
     },
     "execution_count": 67,
     "metadata": {},
     "output_type": "execute_result"
    }
   ],
   "source": [
    "char.isnull().mean()"
   ]
  },
  {
   "cell_type": "markdown",
   "metadata": {},
   "source": [
    "# Feature Selection - Numerical Features "
   ]
  },
  {
   "cell_type": "markdown",
   "metadata": {},
   "source": [
    "# Part 1 : Remove Features with 0 Variance"
   ]
  },
  {
   "cell_type": "code",
   "execution_count": 68,
   "metadata": {},
   "outputs": [],
   "source": [
    "from sklearn.feature_selection import VarianceThreshold\n",
    "\n",
    "varselector= VarianceThreshold(threshold=0)\n",
    "varselector.fit_transform(num_1)\n",
    "# Get columns to keep and create new dataframe with those only\n",
    "cols = varselector.get_support(indices=True)\n",
    "num_2 = num_1.iloc[:,cols]"
   ]
  },
  {
   "cell_type": "code",
   "execution_count": 69,
   "metadata": {},
   "outputs": [
    {
     "data": {
      "text/plain": [
       "Income              58138.0\n",
       "Recency                58.0\n",
       "MntWines              635.0\n",
       "MntFruits              88.0\n",
       "MntMeatProducts       546.0\n",
       "MntFishProducts       172.0\n",
       "MntSweetProducts       88.0\n",
       "MntGoldProds           88.0\n",
       "Age                    64.0\n",
       "Name: 0, dtype: float64"
      ]
     },
     "execution_count": 69,
     "metadata": {},
     "output_type": "execute_result"
    }
   ],
   "source": [
    "num_2.iloc[0]"
   ]
  },
  {
   "cell_type": "markdown",
   "metadata": {},
   "source": [
    "# Part 2 - Bi Variate Analysis (Feature Discretization)"
   ]
  },
  {
   "cell_type": "code",
   "execution_count": 70,
   "metadata": {
    "scrolled": true
   },
   "outputs": [
    {
     "data": {
      "text/html": [
       "<div>\n",
       "<style scoped>\n",
       "    .dataframe tbody tr th:only-of-type {\n",
       "        vertical-align: middle;\n",
       "    }\n",
       "\n",
       "    .dataframe tbody tr th {\n",
       "        vertical-align: top;\n",
       "    }\n",
       "\n",
       "    .dataframe thead th {\n",
       "        text-align: right;\n",
       "    }\n",
       "</style>\n",
       "<table border=\"1\" class=\"dataframe\">\n",
       "  <thead>\n",
       "    <tr style=\"text-align: right;\">\n",
       "      <th></th>\n",
       "      <th>Income_Rank</th>\n",
       "      <th>Recency_Rank</th>\n",
       "      <th>MntWines_Rank</th>\n",
       "      <th>MntFruits_Rank</th>\n",
       "      <th>MntMeatProducts_Rank</th>\n",
       "      <th>MntFishProducts_Rank</th>\n",
       "      <th>MntSweetProducts_Rank</th>\n",
       "      <th>MntGoldProds_Rank</th>\n",
       "      <th>Age_Rank</th>\n",
       "    </tr>\n",
       "  </thead>\n",
       "  <tbody>\n",
       "    <tr>\n",
       "      <th>0</th>\n",
       "      <td>5.0</td>\n",
       "      <td>5.0</td>\n",
       "      <td>8.0</td>\n",
       "      <td>8.0</td>\n",
       "      <td>9.0</td>\n",
       "      <td>8.0</td>\n",
       "      <td>7.0</td>\n",
       "      <td>8.0</td>\n",
       "      <td>8.0</td>\n",
       "    </tr>\n",
       "    <tr>\n",
       "      <th>1</th>\n",
       "      <td>4.0</td>\n",
       "      <td>3.0</td>\n",
       "      <td>1.0</td>\n",
       "      <td>1.0</td>\n",
       "      <td>0.0</td>\n",
       "      <td>1.0</td>\n",
       "      <td>1.0</td>\n",
       "      <td>2.0</td>\n",
       "      <td>8.0</td>\n",
       "    </tr>\n",
       "    <tr>\n",
       "      <th>2</th>\n",
       "      <td>7.0</td>\n",
       "      <td>2.0</td>\n",
       "      <td>7.0</td>\n",
       "      <td>7.0</td>\n",
       "      <td>6.0</td>\n",
       "      <td>7.0</td>\n",
       "      <td>5.0</td>\n",
       "      <td>6.0</td>\n",
       "      <td>6.0</td>\n",
       "    </tr>\n",
       "    <tr>\n",
       "      <th>3</th>\n",
       "      <td>1.0</td>\n",
       "      <td>2.0</td>\n",
       "      <td>1.0</td>\n",
       "      <td>3.0</td>\n",
       "      <td>3.0</td>\n",
       "      <td>3.0</td>\n",
       "      <td>2.0</td>\n",
       "      <td>1.0</td>\n",
       "      <td>1.0</td>\n",
       "    </tr>\n",
       "    <tr>\n",
       "      <th>4</th>\n",
       "      <td>6.0</td>\n",
       "      <td>9.0</td>\n",
       "      <td>4.0</td>\n",
       "      <td>6.0</td>\n",
       "      <td>6.0</td>\n",
       "      <td>6.0</td>\n",
       "      <td>6.0</td>\n",
       "      <td>3.0</td>\n",
       "      <td>1.0</td>\n",
       "    </tr>\n",
       "  </tbody>\n",
       "</table>\n",
       "</div>"
      ],
      "text/plain": [
       "   Income_Rank  Recency_Rank  MntWines_Rank  MntFruits_Rank  \\\n",
       "0          5.0           5.0            8.0             8.0   \n",
       "1          4.0           3.0            1.0             1.0   \n",
       "2          7.0           2.0            7.0             7.0   \n",
       "3          1.0           2.0            1.0             3.0   \n",
       "4          6.0           9.0            4.0             6.0   \n",
       "\n",
       "   MntMeatProducts_Rank  MntFishProducts_Rank  MntSweetProducts_Rank  \\\n",
       "0                   9.0                   8.0                    7.0   \n",
       "1                   0.0                   1.0                    1.0   \n",
       "2                   6.0                   7.0                    5.0   \n",
       "3                   3.0                   3.0                    2.0   \n",
       "4                   6.0                   6.0                    6.0   \n",
       "\n",
       "   MntGoldProds_Rank  Age_Rank  \n",
       "0                8.0       8.0  \n",
       "1                2.0       8.0  \n",
       "2                6.0       6.0  \n",
       "3                1.0       1.0  \n",
       "4                3.0       1.0  "
      ]
     },
     "execution_count": 70,
     "metadata": {},
     "output_type": "execute_result"
    }
   ],
   "source": [
    "from sklearn.preprocessing import KBinsDiscretizer\n",
    "discrete=KBinsDiscretizer(n_bins=10,encode='ordinal', strategy='quantile')\n",
    "num_binned=pd.DataFrame(discrete.fit_transform(num_2),index=num_2.index, columns=num_2.columns).add_suffix('_Rank')\n",
    "num_binned.head()"
   ]
  },
  {
   "cell_type": "code",
   "execution_count": 71,
   "metadata": {
    "scrolled": false
   },
   "outputs": [
    {
     "data": {
      "image/png": "[encoded data removed]",
      "text/plain": [
       "<Figure size 432x288 with 1 Axes>"
      ]
     },
     "metadata": {
      "needs_background": "light"
     },
     "output_type": "display_data"
    },
    {
     "data": {
      "image/png": "[encoded data removed]",
      "text/plain": [
       "<Figure size 432x288 with 1 Axes>"
      ]
     },
     "metadata": {
      "needs_background": "light"
     },
     "output_type": "display_data"
    },
    {
     "data": {
      "image/png": "[encoded data removed]",
      "text/plain": [
       "<Figure size 432x288 with 1 Axes>"
      ]
     },
     "metadata": {
      "needs_background": "light"
     },
     "output_type": "display_data"
    },
    {
     "data": {
      "image/png": "[encoded data removed]",
      "text/plain": [
       "<Figure size 432x288 with 1 Axes>"
      ]
     },
     "metadata": {
      "needs_background": "light"
     },
     "output_type": "display_data"
    },
    {
     "data": {
      "image/png": "[encoded data removed]",
      "text/plain": [
       "<Figure size 432x288 with 1 Axes>"
      ]
     },
     "metadata": {
      "needs_background": "light"
     },
     "output_type": "display_data"
    },
    {
     "data": {
      "image/png": "[encoded data removed]",
      "text/plain": [
       "<Figure size 432x288 with 1 Axes>"
      ]
     },
     "metadata": {
      "needs_background": "light"
     },
     "output_type": "display_data"
    },
    {
     "data": {
      "image/png": "[encoded data removed]",
      "text/plain": [
       "<Figure size 432x288 with 1 Axes>"
      ]
     },
     "metadata": {
      "needs_background": "light"
     },
     "output_type": "display_data"
    },
    {
     "data": {
      "image/png": "[encoded data removed]",
      "text/plain": [
       "<Figure size 432x288 with 1 Axes>"
      ]
     },
     "metadata": {
      "needs_background": "light"
     },
     "output_type": "display_data"
    },
    {
     "data": {
      "image/png": "[encoded data removed]",
      "text/plain": [
       "<Figure size 432x288 with 1 Axes>"
      ]
     },
     "metadata": {
      "needs_background": "light"
     },
     "output_type": "display_data"
    }
   ],
   "source": [
    "X_bin_combined=pd.concat([Y,num_binned],axis=1,join='inner')\n",
    "\n",
    "from numpy import mean\n",
    "for col in (num_binned.columns):\n",
    "    plt.figure()\n",
    "    #sns.lineplot(x=col,y=X_bin_combined['Response'].mean(),data=X_bin_combined,color='red')\n",
    "    sns.barplot(x=col, y=\"Response\",data=X_bin_combined, estimator=mean ).axhline(X_bin_combined['Response'].mean(),color = 'r')\n",
    "plt.show()"
   ]
  },
  {
   "cell_type": "code",
   "execution_count": 72,
   "metadata": {},
   "outputs": [
    {
     "data": {
      "text/plain": [
       "(2240, 8)"
      ]
     },
     "execution_count": 72,
     "metadata": {},
     "output_type": "execute_result"
    }
   ],
   "source": [
    "num_droplist=['Age']\n",
    "num_2=num_2.drop(num_droplist,axis=1)\n",
    "num_2.shape"
   ]
  },
  {
   "cell_type": "markdown",
   "metadata": {},
   "source": [
    "# Part 3 - Select K Best"
   ]
  },
  {
   "cell_type": "code",
   "execution_count": 73,
   "metadata": {},
   "outputs": [],
   "source": [
    "from sklearn.feature_selection import SelectKBest, chi2\n",
    "selector = SelectKBest(chi2,k=6)\n",
    "selector.fit_transform(num_2, Y)\n",
    "# Get columns to keep and create new dataframe with those only\n",
    "cols = selector.get_support(indices=True)\n",
    "select_features_df_num = num_1.iloc[:,cols]"
   ]
  },
  {
   "cell_type": "code",
   "execution_count": 74,
   "metadata": {
    "scrolled": false
   },
   "outputs": [
    {
     "data": {
      "text/plain": [
       "Income             58138.0\n",
       "MntWines             635.0\n",
       "MntFruits             88.0\n",
       "MntMeatProducts      546.0\n",
       "MntFishProducts      172.0\n",
       "MntGoldProds          88.0\n",
       "Name: 0, dtype: float64"
      ]
     },
     "execution_count": 74,
     "metadata": {},
     "output_type": "execute_result"
    }
   ],
   "source": [
    "select_features_df_num.iloc[0]"
   ]
  },
  {
   "cell_type": "markdown",
   "metadata": {},
   "source": [
    "# Feature Selection - Categorical Features "
   ]
  },
  {
   "cell_type": "code",
   "execution_count": 75,
   "metadata": {},
   "outputs": [
    {
     "data": {
      "text/plain": [
       "Education              object\n",
       "Marital_Status         object\n",
       "Kidhome                object\n",
       "Teenhome               object\n",
       "NumDealsPurchases      object\n",
       "NumWebPurchases        object\n",
       "NumCatalogPurchases    object\n",
       "NumStorePurchases      object\n",
       "NumWebVisitsMonth      object\n",
       "AcceptedCmp3           object\n",
       "AcceptedCmp4           object\n",
       "AcceptedCmp5           object\n",
       "AcceptedCmp1           object\n",
       "AcceptedCmp2           object\n",
       "Complain               object\n",
       "Z_CostContact          object\n",
       "Z_Revenue              object\n",
       "Cust_Tenure            object\n",
       "dtype: object"
      ]
     },
     "execution_count": 75,
     "metadata": {},
     "output_type": "execute_result"
    }
   ],
   "source": [
    "char.dtypes"
   ]
  },
  {
   "cell_type": "code",
   "execution_count": 76,
   "metadata": {},
   "outputs": [],
   "source": [
    "def unique_levels(x):\n",
    "    x=x.value_counts().count()\n",
    "    return(x)\n",
    "char_unique_levels=pd.DataFrame(char.apply(lambda x : unique_levels(x)))"
   ]
  },
  {
   "cell_type": "code",
   "execution_count": 77,
   "metadata": {},
   "outputs": [
    {
     "data": {
      "text/html": [
       "<div>\n",
       "<style scoped>\n",
       "    .dataframe tbody tr th:only-of-type {\n",
       "        vertical-align: middle;\n",
       "    }\n",
       "\n",
       "    .dataframe tbody tr th {\n",
       "        vertical-align: top;\n",
       "    }\n",
       "\n",
       "    .dataframe thead th {\n",
       "        text-align: right;\n",
       "    }\n",
       "</style>\n",
       "<table border=\"1\" class=\"dataframe\">\n",
       "  <thead>\n",
       "    <tr style=\"text-align: right;\">\n",
       "      <th></th>\n",
       "      <th>0</th>\n",
       "    </tr>\n",
       "  </thead>\n",
       "  <tbody>\n",
       "    <tr>\n",
       "      <th>Education</th>\n",
       "      <td>5</td>\n",
       "    </tr>\n",
       "    <tr>\n",
       "      <th>Marital_Status</th>\n",
       "      <td>8</td>\n",
       "    </tr>\n",
       "    <tr>\n",
       "      <th>Kidhome</th>\n",
       "      <td>3</td>\n",
       "    </tr>\n",
       "    <tr>\n",
       "      <th>Teenhome</th>\n",
       "      <td>3</td>\n",
       "    </tr>\n",
       "    <tr>\n",
       "      <th>NumDealsPurchases</th>\n",
       "      <td>15</td>\n",
       "    </tr>\n",
       "    <tr>\n",
       "      <th>NumWebPurchases</th>\n",
       "      <td>15</td>\n",
       "    </tr>\n",
       "    <tr>\n",
       "      <th>NumCatalogPurchases</th>\n",
       "      <td>14</td>\n",
       "    </tr>\n",
       "    <tr>\n",
       "      <th>NumStorePurchases</th>\n",
       "      <td>14</td>\n",
       "    </tr>\n",
       "    <tr>\n",
       "      <th>NumWebVisitsMonth</th>\n",
       "      <td>16</td>\n",
       "    </tr>\n",
       "    <tr>\n",
       "      <th>AcceptedCmp3</th>\n",
       "      <td>2</td>\n",
       "    </tr>\n",
       "    <tr>\n",
       "      <th>AcceptedCmp4</th>\n",
       "      <td>2</td>\n",
       "    </tr>\n",
       "    <tr>\n",
       "      <th>AcceptedCmp5</th>\n",
       "      <td>2</td>\n",
       "    </tr>\n",
       "    <tr>\n",
       "      <th>AcceptedCmp1</th>\n",
       "      <td>2</td>\n",
       "    </tr>\n",
       "    <tr>\n",
       "      <th>AcceptedCmp2</th>\n",
       "      <td>2</td>\n",
       "    </tr>\n",
       "    <tr>\n",
       "      <th>Complain</th>\n",
       "      <td>2</td>\n",
       "    </tr>\n",
       "    <tr>\n",
       "      <th>Z_CostContact</th>\n",
       "      <td>1</td>\n",
       "    </tr>\n",
       "    <tr>\n",
       "      <th>Z_Revenue</th>\n",
       "      <td>1</td>\n",
       "    </tr>\n",
       "    <tr>\n",
       "      <th>Cust_Tenure</th>\n",
       "      <td>3</td>\n",
       "    </tr>\n",
       "  </tbody>\n",
       "</table>\n",
       "</div>"
      ],
      "text/plain": [
       "                      0\n",
       "Education             5\n",
       "Marital_Status        8\n",
       "Kidhome               3\n",
       "Teenhome              3\n",
       "NumDealsPurchases    15\n",
       "NumWebPurchases      15\n",
       "NumCatalogPurchases  14\n",
       "NumStorePurchases    14\n",
       "NumWebVisitsMonth    16\n",
       "AcceptedCmp3          2\n",
       "AcceptedCmp4          2\n",
       "AcceptedCmp5          2\n",
       "AcceptedCmp1          2\n",
       "AcceptedCmp2          2\n",
       "Complain              2\n",
       "Z_CostContact         1\n",
       "Z_Revenue             1\n",
       "Cust_Tenure           3"
      ]
     },
     "execution_count": 77,
     "metadata": {},
     "output_type": "execute_result"
    }
   ],
   "source": [
    "char_unique_levels"
   ]
  },
  {
   "cell_type": "code",
   "execution_count": 78,
   "metadata": {},
   "outputs": [],
   "source": [
    "char_unique_levels.columns=['feature_levels']\n",
    "slice1=char_unique_levels.loc[char_unique_levels['feature_levels']>1]\n",
    "cat_list=slice1.index\n",
    "char=char.loc[:,cat_list]"
   ]
  },
  {
   "cell_type": "markdown",
   "metadata": {},
   "source": [
    "# Part 1 - Bi Variate Analysis"
   ]
  },
  {
   "cell_type": "code",
   "execution_count": 80,
   "metadata": {
    "scrolled": false
   },
   "outputs": [
    {
     "data": {
      "image/png": "[encoded data removed]",
      "text/plain": [
       "<Figure size 432x288 with 1 Axes>"
      ]
     },
     "metadata": {
      "needs_background": "light"
     },
     "output_type": "display_data"
    },
    {
     "data": {
      "image/png": "[encoded data removed]",
      "text/plain": [
       "<Figure size 432x288 with 1 Axes>"
      ]
     },
     "metadata": {
      "needs_background": "light"
     },
     "output_type": "display_data"
    },
    {
     "data": {
      "image/png": "[encoded data removed]",
      "text/plain": [
       "<Figure size 432x288 with 1 Axes>"
      ]
     },
     "metadata": {
      "needs_background": "light"
     },
     "output_type": "display_data"
    },
    {
     "data": {
      "image/png": "[encoded data removed]",
      "text/plain": [
       "<Figure size 432x288 with 1 Axes>"
      ]
     },
     "metadata": {
      "needs_background": "light"
     },
     "output_type": "display_data"
    },
    {
     "data": {
      "image/png": "[encoded data removed]",
      "text/plain": [
       "<Figure size 432x288 with 1 Axes>"
      ]
     },
     "metadata": {
      "needs_background": "light"
     },
     "output_type": "display_data"
    },
    {
     "data": {
      "image/png": "[encoded data removed]",
      "text/plain": [
       "<Figure size 432x288 with 1 Axes>"
      ]
     },
     "metadata": {
      "needs_background": "light"
     },
     "output_type": "display_data"
    },
    {
     "data": {
      "image/png": "[encoded data removed]",
      "text/plain": [
       "<Figure size 432x288 with 1 Axes>"
      ]
     },
     "metadata": {
      "needs_background": "light"
     },
     "output_type": "display_data"
    },
    {
     "data": {
      "image/png": "[encoded data removed]",
      "text/plain": [
       "<Figure size 432x288 with 1 Axes>"
      ]
     },
     "metadata": {
      "needs_background": "light"
     },
     "output_type": "display_data"
    },
    {
     "data": {
      "image/png": "[encoded data removed]",
      "text/plain": [
       "<Figure size 432x288 with 1 Axes>"
      ]
     },
     "metadata": {
      "needs_background": "light"
     },
     "output_type": "display_data"
    },
    {
     "data": {
      "image/png": "[encoded data removed]",
      "text/plain": [
       "<Figure size 432x288 with 1 Axes>"
      ]
     },
     "metadata": {
      "needs_background": "light"
     },
     "output_type": "display_data"
    },
    {
     "data": {
      "image/png": "[encoded data removed]",
      "text/plain": [
       "<Figure size 432x288 with 1 Axes>"
      ]
     },
     "metadata": {
      "needs_background": "light"
     },
     "output_type": "display_data"
    },
    {
     "data": {
      "image/png": "[encoded data removed]",
      "text/plain": [
       "<Figure size 432x288 with 1 Axes>"
      ]
     },
     "metadata": {
      "needs_background": "light"
     },
     "output_type": "display_data"
    },
    {
     "data": {
      "image/png": "[encoded data removed]",
      "text/plain": [
       "<Figure size 432x288 with 1 Axes>"
      ]
     },
     "metadata": {
      "needs_background": "light"
     },
     "output_type": "display_data"
    },
    {
     "data": {
      "image/png": "[encoded data removed]",
      "text/plain": [
       "<Figure size 432x288 with 1 Axes>"
      ]
     },
     "metadata": {
      "needs_background": "light"
     },
     "output_type": "display_data"
    },
    {
     "data": {
      "image/png": "[encoded data removed]",
      "text/plain": [
       "<Figure size 432x288 with 1 Axes>"
      ]
     },
     "metadata": {
      "needs_background": "light"
     },
     "output_type": "display_data"
    },
    {
     "data": {
      "image/png": "[encoded data removed]",
      "text/plain": [
       "<Figure size 432x288 with 1 Axes>"
      ]
     },
     "metadata": {
      "needs_background": "light"
     },
     "output_type": "display_data"
    }
   ],
   "source": [
    "import matplotlib.pyplot as plt\n",
    "import seaborn as sns\n",
    "X_char_merged=pd.concat([Y,char],axis=1,join='inner')\n",
    "\n",
    "from numpy import mean\n",
    "for col in (char.columns):\n",
    "    plt.figure()\n",
    "    #sns.lineplot(x=col,y=X_char_merged['Response'].mean(),data=X_char_merged,color='red')\n",
    "    sns.barplot(x=col, y=\"Response\",data=X_char_merged, estimator=mean ).axhline(X_char_merged['Response'].mean(),color = 'r')\n",
    "plt.show()"
   ]
  },
  {
   "cell_type": "code",
   "execution_count": 81,
   "metadata": {},
   "outputs": [
    {
     "data": {
      "text/plain": [
       "Education              object\n",
       "Marital_Status         object\n",
       "Kidhome                object\n",
       "Teenhome               object\n",
       "NumDealsPurchases      object\n",
       "NumWebPurchases        object\n",
       "NumCatalogPurchases    object\n",
       "NumStorePurchases      object\n",
       "NumWebVisitsMonth      object\n",
       "AcceptedCmp3           object\n",
       "AcceptedCmp4           object\n",
       "AcceptedCmp5           object\n",
       "AcceptedCmp1           object\n",
       "AcceptedCmp2           object\n",
       "Complain               object\n",
       "Cust_Tenure            object\n",
       "dtype: object"
      ]
     },
     "execution_count": 81,
     "metadata": {},
     "output_type": "execute_result"
    }
   ],
   "source": [
    "char.dtypes"
   ]
  },
  {
   "cell_type": "code",
   "execution_count": 82,
   "metadata": {},
   "outputs": [
    {
     "data": {
      "text/plain": [
       "(2240, 13)"
      ]
     },
     "execution_count": 82,
     "metadata": {},
     "output_type": "execute_result"
    }
   ],
   "source": [
    "char_droplist=['Education','NumStorePurchases','Complain']\n",
    "char=char.drop(char_droplist,axis=1)\n",
    "char.shape"
   ]
  },
  {
   "cell_type": "code",
   "execution_count": 83,
   "metadata": {},
   "outputs": [
    {
     "data": {
      "text/plain": [
       "(2240, 74)"
      ]
     },
     "execution_count": 83,
     "metadata": {},
     "output_type": "execute_result"
    }
   ],
   "source": [
    "# Create dummy features with n-1 levels\n",
    "X_char_dum = pd.get_dummies(char, drop_first = True)\n",
    "X_char_dum.shape"
   ]
  },
  {
   "cell_type": "markdown",
   "metadata": {},
   "source": [
    "# Part 2 - Select K Best"
   ]
  },
  {
   "cell_type": "code",
   "execution_count": 84,
   "metadata": {},
   "outputs": [],
   "source": [
    "# Select K Best for Categorical Features\n",
    "from sklearn.feature_selection import SelectKBest, chi2\n",
    "selector = SelectKBest(chi2, k=70)\n",
    "selector.fit_transform(X_char_dum, Y)\n",
    "# Get columns to keep and create new dataframe with those only\n",
    "cols = selector.get_support(indices=True)\n",
    "select_features_df_char = X_char_dum.iloc[:,cols]"
   ]
  },
  {
   "cell_type": "code",
   "execution_count": 85,
   "metadata": {
    "scrolled": true
   },
   "outputs": [
    {
     "data": {
      "text/plain": [
       "Marital_Status_Alone       uint8\n",
       "Marital_Status_Divorced    uint8\n",
       "Marital_Status_Married     uint8\n",
       "Marital_Status_Single      uint8\n",
       "Marital_Status_Together    uint8\n",
       "                           ...  \n",
       "AcceptedCmp5_1             uint8\n",
       "AcceptedCmp1_1             uint8\n",
       "AcceptedCmp2_1             uint8\n",
       "Cust_Tenure_7.0            uint8\n",
       "Cust_Tenure_8.0            uint8\n",
       "Length: 70, dtype: object"
      ]
     },
     "execution_count": 85,
     "metadata": {},
     "output_type": "execute_result"
    }
   ],
   "source": [
    "select_features_df_char.dtypes"
   ]
  },
  {
   "cell_type": "markdown",
   "metadata": {},
   "source": [
    "# Creating the Master Feature Set for Model Development"
   ]
  },
  {
   "cell_type": "code",
   "execution_count": 86,
   "metadata": {},
   "outputs": [],
   "source": [
    "X_all=pd.concat([select_features_df_char,select_features_df_num],axis=1,join=\"inner\")"
   ]
  },
  {
   "cell_type": "markdown",
   "metadata": {},
   "source": [
    "# Dimensionality Reduction through Variable Clustering"
   ]
  },
  {
   "cell_type": "code",
   "execution_count": 88,
   "metadata": {},
   "outputs": [
    {
     "data": {
      "text/plain": [
       "<varclushi.varclushi.VarClusHi at 0x1bb86840820>"
      ]
     },
     "execution_count": 88,
     "metadata": {},
     "output_type": "execute_result"
    }
   ],
   "source": [
    "from varclushi import VarClusHi\n",
    "vc = VarClusHi(X_all,maxeigval2=1,maxclus=None)\n",
    "vc.varclus()"
   ]
  },
  {
   "cell_type": "code",
   "execution_count": 89,
   "metadata": {},
   "outputs": [
    {
     "data": {
      "text/html": [
       "<div>\n",
       "<style scoped>\n",
       "    .dataframe tbody tr th:only-of-type {\n",
       "        vertical-align: middle;\n",
       "    }\n",
       "\n",
       "    .dataframe tbody tr th {\n",
       "        vertical-align: top;\n",
       "    }\n",
       "\n",
       "    .dataframe thead th {\n",
       "        text-align: right;\n",
       "    }\n",
       "</style>\n",
       "<table border=\"1\" class=\"dataframe\">\n",
       "  <thead>\n",
       "    <tr style=\"text-align: right;\">\n",
       "      <th></th>\n",
       "      <th>Cluster</th>\n",
       "      <th>N_Vars</th>\n",
       "      <th>Eigval1</th>\n",
       "      <th>Eigval2</th>\n",
       "      <th>VarProp</th>\n",
       "    </tr>\n",
       "  </thead>\n",
       "  <tbody>\n",
       "    <tr>\n",
       "      <th>0</th>\n",
       "      <td>0</td>\n",
       "      <td>8</td>\n",
       "      <td>4.016371</td>\n",
       "      <td>0.961196</td>\n",
       "      <td>0.502046</td>\n",
       "    </tr>\n",
       "    <tr>\n",
       "      <th>1</th>\n",
       "      <td>1</td>\n",
       "      <td>4</td>\n",
       "      <td>1.635838</td>\n",
       "      <td>0.979786</td>\n",
       "      <td>0.408960</td>\n",
       "    </tr>\n",
       "    <tr>\n",
       "      <th>2</th>\n",
       "      <td>2</td>\n",
       "      <td>4</td>\n",
       "      <td>1.832339</td>\n",
       "      <td>0.887457</td>\n",
       "      <td>0.458085</td>\n",
       "    </tr>\n",
       "    <tr>\n",
       "      <th>3</th>\n",
       "      <td>3</td>\n",
       "      <td>3</td>\n",
       "      <td>1.574876</td>\n",
       "      <td>0.993826</td>\n",
       "      <td>0.524959</td>\n",
       "    </tr>\n",
       "    <tr>\n",
       "      <th>4</th>\n",
       "      <td>4</td>\n",
       "      <td>2</td>\n",
       "      <td>1.533925</td>\n",
       "      <td>0.466075</td>\n",
       "      <td>0.766963</td>\n",
       "    </tr>\n",
       "    <tr>\n",
       "      <th>5</th>\n",
       "      <td>5</td>\n",
       "      <td>2</td>\n",
       "      <td>1.200920</td>\n",
       "      <td>0.799080</td>\n",
       "      <td>0.600460</td>\n",
       "    </tr>\n",
       "    <tr>\n",
       "      <th>6</th>\n",
       "      <td>6</td>\n",
       "      <td>3</td>\n",
       "      <td>1.415532</td>\n",
       "      <td>0.998584</td>\n",
       "      <td>0.471844</td>\n",
       "    </tr>\n",
       "    <tr>\n",
       "      <th>7</th>\n",
       "      <td>7</td>\n",
       "      <td>2</td>\n",
       "      <td>1.030270</td>\n",
       "      <td>0.969730</td>\n",
       "      <td>0.515135</td>\n",
       "    </tr>\n",
       "    <tr>\n",
       "      <th>8</th>\n",
       "      <td>8</td>\n",
       "      <td>3</td>\n",
       "      <td>1.201906</td>\n",
       "      <td>0.958295</td>\n",
       "      <td>0.400635</td>\n",
       "    </tr>\n",
       "    <tr>\n",
       "      <th>9</th>\n",
       "      <td>9</td>\n",
       "      <td>4</td>\n",
       "      <td>1.065564</td>\n",
       "      <td>0.993028</td>\n",
       "      <td>0.266391</td>\n",
       "    </tr>\n",
       "    <tr>\n",
       "      <th>10</th>\n",
       "      <td>10</td>\n",
       "      <td>4</td>\n",
       "      <td>1.199194</td>\n",
       "      <td>0.998666</td>\n",
       "      <td>0.299799</td>\n",
       "    </tr>\n",
       "    <tr>\n",
       "      <th>11</th>\n",
       "      <td>11</td>\n",
       "      <td>2</td>\n",
       "      <td>1.208772</td>\n",
       "      <td>0.791228</td>\n",
       "      <td>0.604386</td>\n",
       "    </tr>\n",
       "    <tr>\n",
       "      <th>12</th>\n",
       "      <td>12</td>\n",
       "      <td>3</td>\n",
       "      <td>1.223972</td>\n",
       "      <td>0.925949</td>\n",
       "      <td>0.407991</td>\n",
       "    </tr>\n",
       "    <tr>\n",
       "      <th>13</th>\n",
       "      <td>13</td>\n",
       "      <td>2</td>\n",
       "      <td>1.137087</td>\n",
       "      <td>0.862913</td>\n",
       "      <td>0.568543</td>\n",
       "    </tr>\n",
       "    <tr>\n",
       "      <th>14</th>\n",
       "      <td>14</td>\n",
       "      <td>3</td>\n",
       "      <td>1.204380</td>\n",
       "      <td>0.981102</td>\n",
       "      <td>0.401460</td>\n",
       "    </tr>\n",
       "    <tr>\n",
       "      <th>15</th>\n",
       "      <td>15</td>\n",
       "      <td>2</td>\n",
       "      <td>1.079707</td>\n",
       "      <td>0.920293</td>\n",
       "      <td>0.539854</td>\n",
       "    </tr>\n",
       "    <tr>\n",
       "      <th>16</th>\n",
       "      <td>16</td>\n",
       "      <td>3</td>\n",
       "      <td>1.192045</td>\n",
       "      <td>0.970030</td>\n",
       "      <td>0.397348</td>\n",
       "    </tr>\n",
       "    <tr>\n",
       "      <th>17</th>\n",
       "      <td>17</td>\n",
       "      <td>2</td>\n",
       "      <td>1.053216</td>\n",
       "      <td>0.946784</td>\n",
       "      <td>0.526608</td>\n",
       "    </tr>\n",
       "    <tr>\n",
       "      <th>18</th>\n",
       "      <td>18</td>\n",
       "      <td>1</td>\n",
       "      <td>1.000000</td>\n",
       "      <td>0.000000</td>\n",
       "      <td>1.000000</td>\n",
       "    </tr>\n",
       "    <tr>\n",
       "      <th>19</th>\n",
       "      <td>19</td>\n",
       "      <td>1</td>\n",
       "      <td>1.000000</td>\n",
       "      <td>0.000000</td>\n",
       "      <td>1.000000</td>\n",
       "    </tr>\n",
       "    <tr>\n",
       "      <th>20</th>\n",
       "      <td>20</td>\n",
       "      <td>1</td>\n",
       "      <td>1.000000</td>\n",
       "      <td>0.000000</td>\n",
       "      <td>1.000000</td>\n",
       "    </tr>\n",
       "    <tr>\n",
       "      <th>21</th>\n",
       "      <td>21</td>\n",
       "      <td>1</td>\n",
       "      <td>1.000000</td>\n",
       "      <td>0.000000</td>\n",
       "      <td>1.000000</td>\n",
       "    </tr>\n",
       "    <tr>\n",
       "      <th>22</th>\n",
       "      <td>22</td>\n",
       "      <td>2</td>\n",
       "      <td>1.068709</td>\n",
       "      <td>0.931291</td>\n",
       "      <td>0.534355</td>\n",
       "    </tr>\n",
       "    <tr>\n",
       "      <th>23</th>\n",
       "      <td>23</td>\n",
       "      <td>3</td>\n",
       "      <td>1.242491</td>\n",
       "      <td>0.960185</td>\n",
       "      <td>0.414164</td>\n",
       "    </tr>\n",
       "    <tr>\n",
       "      <th>24</th>\n",
       "      <td>24</td>\n",
       "      <td>1</td>\n",
       "      <td>1.000000</td>\n",
       "      <td>0.000000</td>\n",
       "      <td>1.000000</td>\n",
       "    </tr>\n",
       "    <tr>\n",
       "      <th>25</th>\n",
       "      <td>25</td>\n",
       "      <td>1</td>\n",
       "      <td>1.000000</td>\n",
       "      <td>0.000000</td>\n",
       "      <td>1.000000</td>\n",
       "    </tr>\n",
       "    <tr>\n",
       "      <th>26</th>\n",
       "      <td>26</td>\n",
       "      <td>1</td>\n",
       "      <td>1.000000</td>\n",
       "      <td>0.000000</td>\n",
       "      <td>1.000000</td>\n",
       "    </tr>\n",
       "    <tr>\n",
       "      <th>27</th>\n",
       "      <td>27</td>\n",
       "      <td>1</td>\n",
       "      <td>1.000000</td>\n",
       "      <td>0.000000</td>\n",
       "      <td>1.000000</td>\n",
       "    </tr>\n",
       "    <tr>\n",
       "      <th>28</th>\n",
       "      <td>28</td>\n",
       "      <td>1</td>\n",
       "      <td>1.000000</td>\n",
       "      <td>0.000000</td>\n",
       "      <td>1.000000</td>\n",
       "    </tr>\n",
       "    <tr>\n",
       "      <th>29</th>\n",
       "      <td>29</td>\n",
       "      <td>1</td>\n",
       "      <td>1.000000</td>\n",
       "      <td>0.000000</td>\n",
       "      <td>1.000000</td>\n",
       "    </tr>\n",
       "    <tr>\n",
       "      <th>30</th>\n",
       "      <td>30</td>\n",
       "      <td>1</td>\n",
       "      <td>1.000000</td>\n",
       "      <td>0.000000</td>\n",
       "      <td>1.000000</td>\n",
       "    </tr>\n",
       "    <tr>\n",
       "      <th>31</th>\n",
       "      <td>31</td>\n",
       "      <td>1</td>\n",
       "      <td>1.000000</td>\n",
       "      <td>0.000000</td>\n",
       "      <td>1.000000</td>\n",
       "    </tr>\n",
       "    <tr>\n",
       "      <th>32</th>\n",
       "      <td>32</td>\n",
       "      <td>1</td>\n",
       "      <td>1.000000</td>\n",
       "      <td>0.000000</td>\n",
       "      <td>1.000000</td>\n",
       "    </tr>\n",
       "    <tr>\n",
       "      <th>33</th>\n",
       "      <td>33</td>\n",
       "      <td>1</td>\n",
       "      <td>1.000000</td>\n",
       "      <td>0.000000</td>\n",
       "      <td>1.000000</td>\n",
       "    </tr>\n",
       "    <tr>\n",
       "      <th>34</th>\n",
       "      <td>34</td>\n",
       "      <td>1</td>\n",
       "      <td>1.000000</td>\n",
       "      <td>0.000000</td>\n",
       "      <td>1.000000</td>\n",
       "    </tr>\n",
       "  </tbody>\n",
       "</table>\n",
       "</div>"
      ],
      "text/plain": [
       "   Cluster N_Vars   Eigval1   Eigval2   VarProp\n",
       "0        0      8  4.016371  0.961196  0.502046\n",
       "1        1      4  1.635838  0.979786  0.408960\n",
       "2        2      4  1.832339  0.887457  0.458085\n",
       "3        3      3  1.574876  0.993826  0.524959\n",
       "4        4      2  1.533925  0.466075  0.766963\n",
       "5        5      2  1.200920  0.799080  0.600460\n",
       "6        6      3  1.415532  0.998584  0.471844\n",
       "7        7      2  1.030270  0.969730  0.515135\n",
       "8        8      3  1.201906  0.958295  0.400635\n",
       "9        9      4  1.065564  0.993028  0.266391\n",
       "10      10      4  1.199194  0.998666  0.299799\n",
       "11      11      2  1.208772  0.791228  0.604386\n",
       "12      12      3  1.223972  0.925949  0.407991\n",
       "13      13      2  1.137087  0.862913  0.568543\n",
       "14      14      3  1.204380  0.981102  0.401460\n",
       "15      15      2  1.079707  0.920293  0.539854\n",
       "16      16      3  1.192045  0.970030  0.397348\n",
       "17      17      2  1.053216  0.946784  0.526608\n",
       "18      18      1  1.000000  0.000000  1.000000\n",
       "19      19      1  1.000000  0.000000  1.000000\n",
       "20      20      1  1.000000  0.000000  1.000000\n",
       "21      21      1  1.000000  0.000000  1.000000\n",
       "22      22      2  1.068709  0.931291  0.534355\n",
       "23      23      3  1.242491  0.960185  0.414164\n",
       "24      24      1  1.000000  0.000000  1.000000\n",
       "25      25      1  1.000000  0.000000  1.000000\n",
       "26      26      1  1.000000  0.000000  1.000000\n",
       "27      27      1  1.000000  0.000000  1.000000\n",
       "28      28      1  1.000000  0.000000  1.000000\n",
       "29      29      1  1.000000  0.000000  1.000000\n",
       "30      30      1  1.000000  0.000000  1.000000\n",
       "31      31      1  1.000000  0.000000  1.000000\n",
       "32      32      1  1.000000  0.000000  1.000000\n",
       "33      33      1  1.000000  0.000000  1.000000\n",
       "34      34      1  1.000000  0.000000  1.000000"
      ]
     },
     "execution_count": 89,
     "metadata": {},
     "output_type": "execute_result"
    }
   ],
   "source": [
    "vc.info"
   ]
  },
  {
   "cell_type": "code",
   "execution_count": 90,
   "metadata": {},
   "outputs": [
    {
     "data": {
      "text/html": [
       "<div>\n",
       "<style scoped>\n",
       "    .dataframe tbody tr th:only-of-type {\n",
       "        vertical-align: middle;\n",
       "    }\n",
       "\n",
       "    .dataframe tbody tr th {\n",
       "        vertical-align: top;\n",
       "    }\n",
       "\n",
       "    .dataframe thead th {\n",
       "        text-align: right;\n",
       "    }\n",
       "</style>\n",
       "<table border=\"1\" class=\"dataframe\">\n",
       "  <thead>\n",
       "    <tr style=\"text-align: right;\">\n",
       "      <th></th>\n",
       "      <th>Cluster</th>\n",
       "      <th>Variable</th>\n",
       "      <th>RS_Own</th>\n",
       "      <th>RS_NC</th>\n",
       "      <th>RS_Ratio</th>\n",
       "    </tr>\n",
       "  </thead>\n",
       "  <tbody>\n",
       "    <tr>\n",
       "      <th>0</th>\n",
       "      <td>0</td>\n",
       "      <td>Kidhome_1</td>\n",
       "      <td>0.438819</td>\n",
       "      <td>0.076622</td>\n",
       "      <td>0.607749</td>\n",
       "    </tr>\n",
       "    <tr>\n",
       "      <th>1</th>\n",
       "      <td>0</td>\n",
       "      <td>Income</td>\n",
       "      <td>0.736300</td>\n",
       "      <td>0.168487</td>\n",
       "      <td>0.317133</td>\n",
       "    </tr>\n",
       "    <tr>\n",
       "      <th>2</th>\n",
       "      <td>0</td>\n",
       "      <td>MntWines</td>\n",
       "      <td>0.593854</td>\n",
       "      <td>0.274441</td>\n",
       "      <td>0.559769</td>\n",
       "    </tr>\n",
       "    <tr>\n",
       "      <th>3</th>\n",
       "      <td>0</td>\n",
       "      <td>MntFruits</td>\n",
       "      <td>0.540704</td>\n",
       "      <td>0.079952</td>\n",
       "      <td>0.499209</td>\n",
       "    </tr>\n",
       "    <tr>\n",
       "      <th>4</th>\n",
       "      <td>0</td>\n",
       "      <td>MntMeatProducts</td>\n",
       "      <td>0.691833</td>\n",
       "      <td>0.156511</td>\n",
       "      <td>0.365347</td>\n",
       "    </tr>\n",
       "    <tr>\n",
       "      <th>...</th>\n",
       "      <td>...</td>\n",
       "      <td>...</td>\n",
       "      <td>...</td>\n",
       "      <td>...</td>\n",
       "      <td>...</td>\n",
       "    </tr>\n",
       "    <tr>\n",
       "      <th>71</th>\n",
       "      <td>30</td>\n",
       "      <td>NumWebPurchases_25</td>\n",
       "      <td>1.000000</td>\n",
       "      <td>0.002089</td>\n",
       "      <td>0.000000</td>\n",
       "    </tr>\n",
       "    <tr>\n",
       "      <th>72</th>\n",
       "      <td>31</td>\n",
       "      <td>NumWebVisitsMonth_17</td>\n",
       "      <td>1.000000</td>\n",
       "      <td>0.001375</td>\n",
       "      <td>0.000000</td>\n",
       "    </tr>\n",
       "    <tr>\n",
       "      <th>73</th>\n",
       "      <td>32</td>\n",
       "      <td>NumDealsPurchases_13</td>\n",
       "      <td>1.000000</td>\n",
       "      <td>0.001330</td>\n",
       "      <td>0.000000</td>\n",
       "    </tr>\n",
       "    <tr>\n",
       "      <th>74</th>\n",
       "      <td>33</td>\n",
       "      <td>NumDealsPurchases_12</td>\n",
       "      <td>1.000000</td>\n",
       "      <td>0.005236</td>\n",
       "      <td>0.000000</td>\n",
       "    </tr>\n",
       "    <tr>\n",
       "      <th>75</th>\n",
       "      <td>34</td>\n",
       "      <td>NumDealsPurchases_9</td>\n",
       "      <td>1.000000</td>\n",
       "      <td>0.001406</td>\n",
       "      <td>0.000000</td>\n",
       "    </tr>\n",
       "  </tbody>\n",
       "</table>\n",
       "<p>76 rows × 5 columns</p>\n",
       "</div>"
      ],
      "text/plain": [
       "    Cluster              Variable    RS_Own     RS_NC  RS_Ratio\n",
       "0         0             Kidhome_1  0.438819  0.076622  0.607749\n",
       "1         0                Income  0.736300  0.168487  0.317133\n",
       "2         0              MntWines  0.593854  0.274441  0.559769\n",
       "3         0             MntFruits  0.540704  0.079952  0.499209\n",
       "4         0       MntMeatProducts  0.691833  0.156511  0.365347\n",
       "..      ...                   ...       ...       ...       ...\n",
       "71       30    NumWebPurchases_25  1.000000  0.002089  0.000000\n",
       "72       31  NumWebVisitsMonth_17  1.000000  0.001375  0.000000\n",
       "73       32  NumDealsPurchases_13  1.000000  0.001330  0.000000\n",
       "74       33  NumDealsPurchases_12  1.000000  0.005236  0.000000\n",
       "75       34   NumDealsPurchases_9  1.000000  0.001406  0.000000\n",
       "\n",
       "[76 rows x 5 columns]"
      ]
     },
     "execution_count": 90,
     "metadata": {},
     "output_type": "execute_result"
    }
   ],
   "source": [
    "check=vc.rsquare\n",
    "check"
   ]
  },
  {
   "cell_type": "code",
   "execution_count": 91,
   "metadata": {
    "scrolled": true
   },
   "outputs": [
    {
     "data": {
      "text/plain": [
       "(45, 5)"
      ]
     },
     "execution_count": 91,
     "metadata": {},
     "output_type": "execute_result"
    }
   ],
   "source": [
    "filter=check[check['RS_Ratio']<=0.5]\n",
    "filter.shape"
   ]
  },
  {
   "cell_type": "code",
   "execution_count": 92,
   "metadata": {},
   "outputs": [
    {
     "data": {
      "text/plain": [
       "(2240, 45)"
      ]
     },
     "execution_count": 92,
     "metadata": {},
     "output_type": "execute_result"
    }
   ],
   "source": [
    "final_features=filter['Variable']\n",
    "X_all=X_all[final_features]\n",
    "X_all.shape"
   ]
  },
  {
   "cell_type": "markdown",
   "metadata": {},
   "source": [
    "# Train Test Split"
   ]
  },
  {
   "cell_type": "code",
   "execution_count": 93,
   "metadata": {},
   "outputs": [],
   "source": [
    "from sklearn.model_selection import train_test_split\n",
    "X_train, X_test, y_train, y_test=train_test_split(X_all, Y, test_size=0.3, random_state=20)"
   ]
  },
  {
   "cell_type": "code",
   "execution_count": 94,
   "metadata": {},
   "outputs": [
    {
     "name": "stdout",
     "output_type": "stream",
     "text": [
      "Shape of Training Data (1568, 45)\n",
      "Shape of Testing Data (672, 45)\n",
      "Response Rate in Training Data Response    0.149872\n",
      "dtype: float64\n",
      "Response Rate in Testing Data Response    0.147321\n",
      "dtype: float64\n"
     ]
    }
   ],
   "source": [
    "print(\"Shape of Training Data\",X_train.shape)\n",
    "print(\"Shape of Testing Data\",X_test.shape)\n",
    "print(\"Response Rate in Training Data\",y_train.mean())\n",
    "print(\"Response Rate in Testing Data\",y_test.mean())"
   ]
  },
  {
   "cell_type": "markdown",
   "metadata": {},
   "source": [
    "# Building Logistic Regression Model"
   ]
  },
  {
   "cell_type": "code",
   "execution_count": 95,
   "metadata": {},
   "outputs": [
    {
     "data": {
      "text/plain": [
       "LogisticRegression(random_state=20)"
      ]
     },
     "execution_count": 95,
     "metadata": {},
     "output_type": "execute_result"
    }
   ],
   "source": [
    "from sklearn.linear_model import LogisticRegression\n",
    "logreg=LogisticRegression(random_state=20)\n",
    "logreg.fit(X_train,y_train)"
   ]
  },
  {
   "cell_type": "markdown",
   "metadata": {},
   "source": [
    "# Building Decision Tree Model"
   ]
  },
  {
   "cell_type": "code",
   "execution_count": 96,
   "metadata": {},
   "outputs": [],
   "source": [
    "from sklearn.tree import DecisionTreeClassifier\n",
    "dtree=DecisionTreeClassifier(criterion='gini',random_state=20)"
   ]
  },
  {
   "cell_type": "markdown",
   "metadata": {},
   "source": [
    "# Grid Search for Model Optimization"
   ]
  },
  {
   "cell_type": "code",
   "execution_count": 97,
   "metadata": {},
   "outputs": [
    {
     "name": "stdout",
     "output_type": "stream",
     "text": [
      "Best Parameters using grid search: \n",
      " {'max_depth': 5, 'min_samples_split': 75}\n"
     ]
    }
   ],
   "source": [
    "# Min_Samples_Split starting from 5% of training base\n",
    "from sklearn.model_selection import GridSearchCV\n",
    "param_dist = {'max_depth': [3, 5, 6, 7], 'min_samples_split': [75,100,125,150] }\n",
    "tree_grid = GridSearchCV(dtree, cv = 10, param_grid=param_dist,n_jobs = 3)\n",
    "tree_grid.fit(X_train,y_train) \n",
    "print('Best Parameters using grid search: \\n', tree_grid.best_params_)"
   ]
  },
  {
   "cell_type": "code",
   "execution_count": 98,
   "metadata": {},
   "outputs": [
    {
     "data": {
      "text/plain": [
       "DecisionTreeClassifier(max_depth=5, min_samples_split=75, random_state=20)"
      ]
     },
     "execution_count": 98,
     "metadata": {},
     "output_type": "execute_result"
    }
   ],
   "source": [
    "dtree=DecisionTreeClassifier(criterion='gini',random_state=20,max_depth=5,min_samples_split=75)\n",
    "dtree.fit(X_train,y_train)"
   ]
  },
  {
   "cell_type": "markdown",
   "metadata": {},
   "source": [
    "# Building Random Forest Model"
   ]
  },
  {
   "cell_type": "code",
   "execution_count": 99,
   "metadata": {},
   "outputs": [
    {
     "data": {
      "text/plain": [
       "RandomForestClassifier(max_depth=5, min_samples_split=75, random_state=20)"
      ]
     },
     "execution_count": 99,
     "metadata": {},
     "output_type": "execute_result"
    }
   ],
   "source": [
    "from sklearn.ensemble import RandomForestClassifier\n",
    "rf=RandomForestClassifier(criterion='gini',random_state=20,max_depth=5,min_samples_split=75)\n",
    "rf.fit(X_train,y_train)"
   ]
  },
  {
   "cell_type": "markdown",
   "metadata": {},
   "source": [
    "# Building Gradient Boosting Model"
   ]
  },
  {
   "cell_type": "code",
   "execution_count": 100,
   "metadata": {},
   "outputs": [
    {
     "data": {
      "text/plain": [
       "GradientBoostingClassifier(criterion='mse', max_depth=5, min_samples_split=75,\n",
       "                           random_state=20)"
      ]
     },
     "execution_count": 100,
     "metadata": {},
     "output_type": "execute_result"
    }
   ],
   "source": [
    "from sklearn.ensemble import GradientBoostingClassifier\n",
    "gbm=GradientBoostingClassifier(criterion='mse',random_state=20,max_depth=5,min_samples_split=75)\n",
    "gbm.fit(X_train,y_train)"
   ]
  },
  {
   "cell_type": "markdown",
   "metadata": {},
   "source": [
    "# Model Evaluation"
   ]
  },
  {
   "cell_type": "code",
   "execution_count": 101,
   "metadata": {},
   "outputs": [],
   "source": [
    "from sklearn import metrics\n",
    "from sklearn.metrics import confusion_matrix"
   ]
  },
  {
   "cell_type": "code",
   "execution_count": 102,
   "metadata": {},
   "outputs": [],
   "source": [
    "y_pred_logreg=logreg.predict(X_test)\n",
    "y_pred_tree=dtree.predict(X_test)\n",
    "y_pred_rf=rf.predict(X_test)\n",
    "y_pred_gbm=gbm.predict(X_test)"
   ]
  },
  {
   "cell_type": "code",
   "execution_count": 103,
   "metadata": {},
   "outputs": [
    {
     "name": "stdout",
     "output_type": "stream",
     "text": [
      "Accuracy from Logistic Regression Model : 0.8511904761904762\n",
      "Precision from Logistic Regression Model : 0.45454545454545453\n",
      "Recall from Logistic Regression Model : 0.050505050505050504\n",
      "f1_score from Logistic Regression Model : 0.0909090909090909\n",
      "Area under ROC Curve from Logistic Regression Model : 0.5200169231582844\n",
      "Gini from the Logistic Regression Model : 0.04003384631656881\n"
     ]
    }
   ],
   "source": [
    "print(\"Accuracy from Logistic Regression Model :\",metrics.accuracy_score(y_test, y_pred_logreg))\n",
    "print(\"Precision from Logistic Regression Model :\",metrics.precision_score(y_test,y_pred_logreg))\n",
    "print(\"Recall from Logistic Regression Model :\",metrics.recall_score(y_test,y_pred_logreg))\n",
    "print(\"f1_score from Logistic Regression Model :\",metrics.f1_score(y_test,y_pred_logreg))\n",
    "print(\"Area under ROC Curve from Logistic Regression Model :\",metrics.roc_auc_score(y_test,y_pred_logreg))\n",
    "print(\"Gini from the Logistic Regression Model :\",2*metrics.roc_auc_score(y_test,y_pred_logreg)-1)"
   ]
  },
  {
   "cell_type": "code",
   "execution_count": 104,
   "metadata": {},
   "outputs": [
    {
     "data": {
      "text/plain": [
       "<sklearn.metrics._plot.confusion_matrix.ConfusionMatrixDisplay at 0x1bb854a8f10>"
      ]
     },
     "execution_count": 104,
     "metadata": {},
     "output_type": "execute_result"
    },
    {
     "data": {
      "image/png": "[encoded data removed]",
      "text/plain": [
       "<Figure size 432x288 with 2 Axes>"
      ]
     },
     "metadata": {
      "needs_background": "light"
     },
     "output_type": "display_data"
    }
   ],
   "source": [
    "metrics.plot_confusion_matrix(logreg,X_all,Y)"
   ]
  },
  {
   "cell_type": "code",
   "execution_count": 105,
   "metadata": {},
   "outputs": [
    {
     "name": "stdout",
     "output_type": "stream",
     "text": [
      "Accuracy from Decision Tree Model : 0.8556547619047619\n",
      "Precision from Decision Tree Model : 0.5555555555555556\n",
      "Recall from Decision Tree Model : 0.10101010101010101\n",
      "f1_score from Decision Tree Model : 0.17094017094017094\n",
      "Area under ROC Curve from Decision Tree Model : 0.5435242477127293\n",
      "Gini from the Decision Tree Model : 0.08704849542545867\n"
     ]
    }
   ],
   "source": [
    "print(\"Accuracy from Decision Tree Model :\",metrics.accuracy_score(y_test, y_pred_tree))\n",
    "print(\"Precision from Decision Tree Model :\",metrics.precision_score(y_test,y_pred_tree))\n",
    "print(\"Recall from Decision Tree Model :\",metrics.recall_score(y_test,y_pred_tree))\n",
    "print(\"f1_score from Decision Tree Model :\",metrics.f1_score(y_test,y_pred_tree))\n",
    "print(\"Area under ROC Curve from Decision Tree Model :\",metrics.roc_auc_score(y_test,y_pred_tree))\n",
    "print(\"Gini from the Decision Tree Model :\",2*metrics.roc_auc_score(y_test,y_pred_tree)-1)"
   ]
  },
  {
   "cell_type": "code",
   "execution_count": 106,
   "metadata": {},
   "outputs": [
    {
     "data": {
      "text/plain": [
       "<sklearn.metrics._plot.confusion_matrix.ConfusionMatrixDisplay at 0x1bb8713d9d0>"
      ]
     },
     "execution_count": 106,
     "metadata": {},
     "output_type": "execute_result"
    },
    {
     "data": {
      "image/png": "[encoded data removed]",
      "text/plain": [
       "<Figure size 432x288 with 2 Axes>"
      ]
     },
     "metadata": {
      "needs_background": "light"
     },
     "output_type": "display_data"
    }
   ],
   "source": [
    "metrics.plot_confusion_matrix(dtree,X_all,Y)"
   ]
  },
  {
   "cell_type": "code",
   "execution_count": 107,
   "metadata": {},
   "outputs": [
    {
     "name": "stdout",
     "output_type": "stream",
     "text": [
      "Accuracy from Random Forest Model : 0.8526785714285714\n",
      "Precision from Random Forest Model : 0.0\n",
      "Recall from Random Forest Model : 0.0\n",
      "f1_score from Random Forest Model : 0.0\n",
      "Area under ROC Curve from Random Forest Model : 0.5\n",
      "Gini from the Random Forest Model : 0.0\n"
     ]
    }
   ],
   "source": [
    "print(\"Accuracy from Random Forest Model :\",metrics.accuracy_score(y_test, y_pred_rf))\n",
    "print(\"Precision from Random Forest Model :\",metrics.precision_score(y_test,y_pred_rf))\n",
    "print(\"Recall from Random Forest Model :\",metrics.recall_score(y_test,y_pred_rf))\n",
    "print(\"f1_score from Random Forest Model :\",metrics.f1_score(y_test,y_pred_rf))\n",
    "print(\"Area under ROC Curve from Random Forest Model :\",metrics.roc_auc_score(y_test,y_pred_rf))\n",
    "print(\"Gini from the Random Forest Model :\",2*metrics.roc_auc_score(y_test,y_pred_rf)-1)"
   ]
  },
  {
   "cell_type": "code",
   "execution_count": 108,
   "metadata": {},
   "outputs": [
    {
     "data": {
      "text/plain": [
       "<sklearn.metrics._plot.confusion_matrix.ConfusionMatrixDisplay at 0x1bb853b4dc0>"
      ]
     },
     "execution_count": 108,
     "metadata": {},
     "output_type": "execute_result"
    },
    {
     "data": {
      "image/png": "[encoded data removed]",
      "text/plain": [
       "<Figure size 432x288 with 2 Axes>"
      ]
     },
     "metadata": {
      "needs_background": "light"
     },
     "output_type": "display_data"
    }
   ],
   "source": [
    "metrics.plot_confusion_matrix(rf,X_all,Y)"
   ]
  },
  {
   "cell_type": "code",
   "execution_count": 109,
   "metadata": {},
   "outputs": [
    {
     "name": "stdout",
     "output_type": "stream",
     "text": [
      "Accuracy from GBM Model : 0.8630952380952381\n",
      "Precision from GBM Model : 0.5813953488372093\n",
      "Recall from GBM Model : 0.25252525252525254\n",
      "f1_score from GBM Model : 0.35211267605633806\n",
      "Area under ROC Curve from GBM Model : 0.6105558199799037\n",
      "Gini from the GBM Model : 0.22111163995980743\n"
     ]
    }
   ],
   "source": [
    "print(\"Accuracy from GBM Model :\",metrics.accuracy_score(y_test, y_pred_gbm))\n",
    "print(\"Precision from GBM Model :\",metrics.precision_score(y_test,y_pred_gbm))\n",
    "print(\"Recall from GBM Model :\",metrics.recall_score(y_test,y_pred_gbm))\n",
    "print(\"f1_score from GBM Model :\",metrics.f1_score(y_test,y_pred_gbm))\n",
    "print(\"Area under ROC Curve from GBM Model :\",metrics.roc_auc_score(y_test,y_pred_gbm))\n",
    "print(\"Gini from the GBM Model :\",2*metrics.roc_auc_score(y_test,y_pred_gbm)-1)"
   ]
  },
  {
   "cell_type": "code",
   "execution_count": 110,
   "metadata": {
    "scrolled": true
   },
   "outputs": [
    {
     "data": {
      "text/plain": [
       "<sklearn.metrics._plot.confusion_matrix.ConfusionMatrixDisplay at 0x1bb85243b80>"
      ]
     },
     "execution_count": 110,
     "metadata": {},
     "output_type": "execute_result"
    },
    {
     "data": {
      "image/png": "[encoded data removed]",
      "text/plain": [
       "<Figure size 432x288 with 2 Axes>"
      ]
     },
     "metadata": {
      "needs_background": "light"
     },
     "output_type": "display_data"
    }
   ],
   "source": [
    "metrics.plot_confusion_matrix(gbm,X_all,Y)"
   ]
  },
  {
   "cell_type": "markdown",
   "metadata": {},
   "source": [
    "# Extracting Feature Importance from the best model"
   ]
  },
  {
   "cell_type": "code",
   "execution_count": 111,
   "metadata": {},
   "outputs": [
    {
     "data": {
      "text/plain": [
       "(45, 1)"
      ]
     },
     "execution_count": 111,
     "metadata": {},
     "output_type": "execute_result"
    }
   ],
   "source": [
    "import pandas as pd\n",
    "feature_importances=pd.DataFrame(gbm.feature_importances_,\n",
    "                                 index=X_train.columns,\n",
    "                                 columns=['importance']).sort_values('importance',ascending=False)\n",
    "feature_importances.shape"
   ]
  },
  {
   "cell_type": "markdown",
   "metadata": {},
   "source": [
    "# Extracting the Top 10 Important Model Features"
   ]
  },
  {
   "cell_type": "code",
   "execution_count": 112,
   "metadata": {},
   "outputs": [
    {
     "data": {
      "text/html": [
       "<div>\n",
       "<style scoped>\n",
       "    .dataframe tbody tr th:only-of-type {\n",
       "        vertical-align: middle;\n",
       "    }\n",
       "\n",
       "    .dataframe tbody tr th {\n",
       "        vertical-align: top;\n",
       "    }\n",
       "\n",
       "    .dataframe thead th {\n",
       "        text-align: right;\n",
       "    }\n",
       "</style>\n",
       "<table border=\"1\" class=\"dataframe\">\n",
       "  <thead>\n",
       "    <tr style=\"text-align: right;\">\n",
       "      <th></th>\n",
       "      <th>importance</th>\n",
       "    </tr>\n",
       "  </thead>\n",
       "  <tbody>\n",
       "    <tr>\n",
       "      <th>Income</th>\n",
       "      <td>0.239695</td>\n",
       "    </tr>\n",
       "    <tr>\n",
       "      <th>MntMeatProducts</th>\n",
       "      <td>0.234649</td>\n",
       "    </tr>\n",
       "    <tr>\n",
       "      <th>AcceptedCmp3_1</th>\n",
       "      <td>0.107848</td>\n",
       "    </tr>\n",
       "    <tr>\n",
       "      <th>MntFishProducts</th>\n",
       "      <td>0.076480</td>\n",
       "    </tr>\n",
       "    <tr>\n",
       "      <th>MntFruits</th>\n",
       "      <td>0.066708</td>\n",
       "    </tr>\n",
       "    <tr>\n",
       "      <th>Cust_Tenure_8.0</th>\n",
       "      <td>0.053316</td>\n",
       "    </tr>\n",
       "    <tr>\n",
       "      <th>NumCatalogPurchases_10</th>\n",
       "      <td>0.026466</td>\n",
       "    </tr>\n",
       "    <tr>\n",
       "      <th>Marital_Status_Together</th>\n",
       "      <td>0.022226</td>\n",
       "    </tr>\n",
       "    <tr>\n",
       "      <th>Marital_Status_Single</th>\n",
       "      <td>0.016421</td>\n",
       "    </tr>\n",
       "    <tr>\n",
       "      <th>Marital_Status_Married</th>\n",
       "      <td>0.015557</td>\n",
       "    </tr>\n",
       "  </tbody>\n",
       "</table>\n",
       "</div>"
      ],
      "text/plain": [
       "                         importance\n",
       "Income                     0.239695\n",
       "MntMeatProducts            0.234649\n",
       "AcceptedCmp3_1             0.107848\n",
       "MntFishProducts            0.076480\n",
       "MntFruits                  0.066708\n",
       "Cust_Tenure_8.0            0.053316\n",
       "NumCatalogPurchases_10     0.026466\n",
       "Marital_Status_Together    0.022226\n",
       "Marital_Status_Single      0.016421\n",
       "Marital_Status_Married     0.015557"
      ]
     },
     "execution_count": 112,
     "metadata": {},
     "output_type": "execute_result"
    }
   ],
   "source": [
    "feature_importances.iloc[0:10]"
   ]
  },
  {
   "cell_type": "markdown",
   "metadata": {},
   "source": [
    "# Plotting the top 10 feature importances in a Horizontal Bar Plot"
   ]
  },
  {
   "cell_type": "code",
   "execution_count": 113,
   "metadata": {},
   "outputs": [
    {
     "data": {
      "image/png": "[encoded data removed]",
      "text/plain": [
       "<Figure size 432x288 with 1 Axes>"
      ]
     },
     "metadata": {
      "needs_background": "light"
     },
     "output_type": "display_data"
    }
   ],
   "source": [
    "ax=sns.barplot(x='importance',y=feature_importances.iloc[0:10].index,data=feature_importances.iloc[0:10])"
   ]
  },
  {
   "cell_type": "markdown",
   "metadata": {},
   "source": [
    "# Probability Decile Analysis and Gains Chart / Lorenz Curve"
   ]
  },
  {
   "cell_type": "markdown",
   "metadata": {},
   "source": [
    "# Step 1 : Getting the Model Probabilities"
   ]
  },
  {
   "cell_type": "code",
   "execution_count": 114,
   "metadata": {},
   "outputs": [],
   "source": [
    "y_pred_prob = gbm.predict_proba(X_all)[:, 1]\n",
    "df['pred_prob']=pd.DataFrame(y_pred_prob)"
   ]
  },
  {
   "cell_type": "markdown",
   "metadata": {},
   "source": [
    "# Step 2 : Create Deciles based on the Model Probabilities"
   ]
  },
  {
   "cell_type": "code",
   "execution_count": 115,
   "metadata": {},
   "outputs": [
    {
     "data": {
      "text/html": [
       "<div>\n",
       "<style scoped>\n",
       "    .dataframe tbody tr th:only-of-type {\n",
       "        vertical-align: middle;\n",
       "    }\n",
       "\n",
       "    .dataframe tbody tr th {\n",
       "        vertical-align: top;\n",
       "    }\n",
       "\n",
       "    .dataframe thead th {\n",
       "        text-align: right;\n",
       "    }\n",
       "</style>\n",
       "<table border=\"1\" class=\"dataframe\">\n",
       "  <thead>\n",
       "    <tr style=\"text-align: right;\">\n",
       "      <th></th>\n",
       "      <th>pred_prob</th>\n",
       "      <th>P_Rank_gbm</th>\n",
       "    </tr>\n",
       "  </thead>\n",
       "  <tbody>\n",
       "    <tr>\n",
       "      <th>0</th>\n",
       "      <td>0.846883</td>\n",
       "      <td>10</td>\n",
       "    </tr>\n",
       "    <tr>\n",
       "      <th>1</th>\n",
       "      <td>0.012458</td>\n",
       "      <td>1</td>\n",
       "    </tr>\n",
       "    <tr>\n",
       "      <th>2</th>\n",
       "      <td>0.073411</td>\n",
       "      <td>6</td>\n",
       "    </tr>\n",
       "    <tr>\n",
       "      <th>3</th>\n",
       "      <td>0.027514</td>\n",
       "      <td>3</td>\n",
       "    </tr>\n",
       "    <tr>\n",
       "      <th>4</th>\n",
       "      <td>0.035007</td>\n",
       "      <td>4</td>\n",
       "    </tr>\n",
       "  </tbody>\n",
       "</table>\n",
       "</div>"
      ],
      "text/plain": [
       "   pred_prob  P_Rank_gbm\n",
       "0   0.846883          10\n",
       "1   0.012458           1\n",
       "2   0.073411           6\n",
       "3   0.027514           3\n",
       "4   0.035007           4"
      ]
     },
     "execution_count": 115,
     "metadata": {},
     "output_type": "execute_result"
    }
   ],
   "source": [
    "df['P_Rank_gbm']=pd.qcut(df['pred_prob'].rank(method='first').values,10,duplicates='drop').codes+1\n",
    "df[['pred_prob','P_Rank_gbm']].head()"
   ]
  },
  {
   "cell_type": "markdown",
   "metadata": {},
   "source": [
    "# Step 3 : Summarize the data at Decile Level for Analysis"
   ]
  },
  {
   "cell_type": "code",
   "execution_count": 116,
   "metadata": {},
   "outputs": [
    {
     "data": {
      "text/html": [
       "<div>\n",
       "<style scoped>\n",
       "    .dataframe tbody tr th:only-of-type {\n",
       "        vertical-align: middle;\n",
       "    }\n",
       "\n",
       "    .dataframe tbody tr th {\n",
       "        vertical-align: top;\n",
       "    }\n",
       "\n",
       "    .dataframe thead th {\n",
       "        text-align: right;\n",
       "    }\n",
       "</style>\n",
       "<table border=\"1\" class=\"dataframe\">\n",
       "  <thead>\n",
       "    <tr style=\"text-align: right;\">\n",
       "      <th></th>\n",
       "      <th>count</th>\n",
       "      <th>Actual_event_rate</th>\n",
       "    </tr>\n",
       "    <tr>\n",
       "      <th>P_Rank_gbm</th>\n",
       "      <th></th>\n",
       "      <th></th>\n",
       "    </tr>\n",
       "  </thead>\n",
       "  <tbody>\n",
       "    <tr>\n",
       "      <th>10</th>\n",
       "      <td>224</td>\n",
       "      <td>0.870536</td>\n",
       "    </tr>\n",
       "    <tr>\n",
       "      <th>9</th>\n",
       "      <td>224</td>\n",
       "      <td>0.370536</td>\n",
       "    </tr>\n",
       "    <tr>\n",
       "      <th>8</th>\n",
       "      <td>224</td>\n",
       "      <td>0.107143</td>\n",
       "    </tr>\n",
       "    <tr>\n",
       "      <th>7</th>\n",
       "      <td>224</td>\n",
       "      <td>0.040179</td>\n",
       "    </tr>\n",
       "    <tr>\n",
       "      <th>6</th>\n",
       "      <td>224</td>\n",
       "      <td>0.058036</td>\n",
       "    </tr>\n",
       "    <tr>\n",
       "      <th>5</th>\n",
       "      <td>224</td>\n",
       "      <td>0.017857</td>\n",
       "    </tr>\n",
       "    <tr>\n",
       "      <th>4</th>\n",
       "      <td>224</td>\n",
       "      <td>0.004464</td>\n",
       "    </tr>\n",
       "    <tr>\n",
       "      <th>3</th>\n",
       "      <td>224</td>\n",
       "      <td>0.008929</td>\n",
       "    </tr>\n",
       "    <tr>\n",
       "      <th>2</th>\n",
       "      <td>224</td>\n",
       "      <td>0.004464</td>\n",
       "    </tr>\n",
       "    <tr>\n",
       "      <th>1</th>\n",
       "      <td>224</td>\n",
       "      <td>0.008929</td>\n",
       "    </tr>\n",
       "  </tbody>\n",
       "</table>\n",
       "</div>"
      ],
      "text/plain": [
       "            count  Actual_event_rate\n",
       "P_Rank_gbm                          \n",
       "10            224           0.870536\n",
       "9             224           0.370536\n",
       "8             224           0.107143\n",
       "7             224           0.040179\n",
       "6             224           0.058036\n",
       "5             224           0.017857\n",
       "4             224           0.004464\n",
       "3             224           0.008929\n",
       "2             224           0.004464\n",
       "1             224           0.008929"
      ]
     },
     "execution_count": 116,
     "metadata": {},
     "output_type": "execute_result"
    }
   ],
   "source": [
    "rank_df=df.groupby('P_Rank_gbm')['Response'].agg(['count','mean']).sort_values(by='P_Rank_gbm',ascending=False)\n",
    "rank_df.rename(columns={'mean':'Actual_event_rate'},inplace=True)\n",
    "rank_df"
   ]
  },
  {
   "cell_type": "markdown",
   "metadata": {},
   "source": [
    "# Step 4 - Event Capture Analysis across Probability Deciles"
   ]
  },
  {
   "cell_type": "code",
   "execution_count": 117,
   "metadata": {},
   "outputs": [
    {
     "data": {
      "text/html": [
       "<div>\n",
       "<style scoped>\n",
       "    .dataframe tbody tr th:only-of-type {\n",
       "        vertical-align: middle;\n",
       "    }\n",
       "\n",
       "    .dataframe tbody tr th {\n",
       "        vertical-align: top;\n",
       "    }\n",
       "\n",
       "    .dataframe thead th {\n",
       "        text-align: right;\n",
       "    }\n",
       "</style>\n",
       "<table border=\"1\" class=\"dataframe\">\n",
       "  <thead>\n",
       "    <tr style=\"text-align: right;\">\n",
       "      <th></th>\n",
       "      <th>count</th>\n",
       "      <th>Actual_event_rate</th>\n",
       "      <th>N_events</th>\n",
       "      <th>cum_events</th>\n",
       "      <th>event_cap</th>\n",
       "      <th>cum_event_cap</th>\n",
       "    </tr>\n",
       "    <tr>\n",
       "      <th>P_Rank_gbm</th>\n",
       "      <th></th>\n",
       "      <th></th>\n",
       "      <th></th>\n",
       "      <th></th>\n",
       "      <th></th>\n",
       "      <th></th>\n",
       "    </tr>\n",
       "  </thead>\n",
       "  <tbody>\n",
       "    <tr>\n",
       "      <th>10</th>\n",
       "      <td>224</td>\n",
       "      <td>0.870536</td>\n",
       "      <td>195.0</td>\n",
       "      <td>195.0</td>\n",
       "      <td>0.583832</td>\n",
       "      <td>0.583832</td>\n",
       "    </tr>\n",
       "    <tr>\n",
       "      <th>9</th>\n",
       "      <td>224</td>\n",
       "      <td>0.370536</td>\n",
       "      <td>83.0</td>\n",
       "      <td>278.0</td>\n",
       "      <td>0.248503</td>\n",
       "      <td>0.832335</td>\n",
       "    </tr>\n",
       "    <tr>\n",
       "      <th>8</th>\n",
       "      <td>224</td>\n",
       "      <td>0.107143</td>\n",
       "      <td>24.0</td>\n",
       "      <td>302.0</td>\n",
       "      <td>0.071856</td>\n",
       "      <td>0.904192</td>\n",
       "    </tr>\n",
       "    <tr>\n",
       "      <th>7</th>\n",
       "      <td>224</td>\n",
       "      <td>0.040179</td>\n",
       "      <td>9.0</td>\n",
       "      <td>311.0</td>\n",
       "      <td>0.026946</td>\n",
       "      <td>0.931138</td>\n",
       "    </tr>\n",
       "    <tr>\n",
       "      <th>6</th>\n",
       "      <td>224</td>\n",
       "      <td>0.058036</td>\n",
       "      <td>13.0</td>\n",
       "      <td>324.0</td>\n",
       "      <td>0.038922</td>\n",
       "      <td>0.970060</td>\n",
       "    </tr>\n",
       "    <tr>\n",
       "      <th>5</th>\n",
       "      <td>224</td>\n",
       "      <td>0.017857</td>\n",
       "      <td>4.0</td>\n",
       "      <td>328.0</td>\n",
       "      <td>0.011976</td>\n",
       "      <td>0.982036</td>\n",
       "    </tr>\n",
       "    <tr>\n",
       "      <th>4</th>\n",
       "      <td>224</td>\n",
       "      <td>0.004464</td>\n",
       "      <td>1.0</td>\n",
       "      <td>329.0</td>\n",
       "      <td>0.002994</td>\n",
       "      <td>0.985030</td>\n",
       "    </tr>\n",
       "    <tr>\n",
       "      <th>3</th>\n",
       "      <td>224</td>\n",
       "      <td>0.008929</td>\n",
       "      <td>2.0</td>\n",
       "      <td>331.0</td>\n",
       "      <td>0.005988</td>\n",
       "      <td>0.991018</td>\n",
       "    </tr>\n",
       "    <tr>\n",
       "      <th>2</th>\n",
       "      <td>224</td>\n",
       "      <td>0.004464</td>\n",
       "      <td>1.0</td>\n",
       "      <td>332.0</td>\n",
       "      <td>0.002994</td>\n",
       "      <td>0.994012</td>\n",
       "    </tr>\n",
       "    <tr>\n",
       "      <th>1</th>\n",
       "      <td>224</td>\n",
       "      <td>0.008929</td>\n",
       "      <td>2.0</td>\n",
       "      <td>334.0</td>\n",
       "      <td>0.005988</td>\n",
       "      <td>1.000000</td>\n",
       "    </tr>\n",
       "  </tbody>\n",
       "</table>\n",
       "</div>"
      ],
      "text/plain": [
       "            count  Actual_event_rate  N_events  cum_events  event_cap  \\\n",
       "P_Rank_gbm                                                              \n",
       "10            224           0.870536     195.0       195.0   0.583832   \n",
       "9             224           0.370536      83.0       278.0   0.248503   \n",
       "8             224           0.107143      24.0       302.0   0.071856   \n",
       "7             224           0.040179       9.0       311.0   0.026946   \n",
       "6             224           0.058036      13.0       324.0   0.038922   \n",
       "5             224           0.017857       4.0       328.0   0.011976   \n",
       "4             224           0.004464       1.0       329.0   0.002994   \n",
       "3             224           0.008929       2.0       331.0   0.005988   \n",
       "2             224           0.004464       1.0       332.0   0.002994   \n",
       "1             224           0.008929       2.0       334.0   0.005988   \n",
       "\n",
       "            cum_event_cap  \n",
       "P_Rank_gbm                 \n",
       "10               0.583832  \n",
       "9                0.832335  \n",
       "8                0.904192  \n",
       "7                0.931138  \n",
       "6                0.970060  \n",
       "5                0.982036  \n",
       "4                0.985030  \n",
       "3                0.991018  \n",
       "2                0.994012  \n",
       "1                1.000000  "
      ]
     },
     "execution_count": 117,
     "metadata": {},
     "output_type": "execute_result"
    }
   ],
   "source": [
    "rank_df['N_events']=rank_df['count']*rank_df['Actual_event_rate']\n",
    "rank_df['cum_events']=rank_df['N_events'].cumsum()\n",
    "rank_df['event_cap']=rank_df['N_events']/max(rank_df['N_events'].cumsum())\n",
    "rank_df['cum_event_cap']=rank_df['event_cap'].cumsum()\n",
    "rank_df"
   ]
  },
  {
   "cell_type": "markdown",
   "metadata": {},
   "source": [
    "# Step 5 - Non Event Capture Analysis across Probability Deciles"
   ]
  },
  {
   "cell_type": "code",
   "execution_count": 118,
   "metadata": {},
   "outputs": [
    {
     "data": {
      "text/html": [
       "<div>\n",
       "<style scoped>\n",
       "    .dataframe tbody tr th:only-of-type {\n",
       "        vertical-align: middle;\n",
       "    }\n",
       "\n",
       "    .dataframe tbody tr th {\n",
       "        vertical-align: top;\n",
       "    }\n",
       "\n",
       "    .dataframe thead th {\n",
       "        text-align: right;\n",
       "    }\n",
       "</style>\n",
       "<table border=\"1\" class=\"dataframe\">\n",
       "  <thead>\n",
       "    <tr style=\"text-align: right;\">\n",
       "      <th></th>\n",
       "      <th>count</th>\n",
       "      <th>Actual_event_rate</th>\n",
       "      <th>N_events</th>\n",
       "      <th>cum_events</th>\n",
       "      <th>event_cap</th>\n",
       "      <th>cum_event_cap</th>\n",
       "      <th>N_non_events</th>\n",
       "      <th>cum_non_events</th>\n",
       "      <th>non_event_cap</th>\n",
       "      <th>cum_non_event_cap</th>\n",
       "    </tr>\n",
       "    <tr>\n",
       "      <th>P_Rank_gbm</th>\n",
       "      <th></th>\n",
       "      <th></th>\n",
       "      <th></th>\n",
       "      <th></th>\n",
       "      <th></th>\n",
       "      <th></th>\n",
       "      <th></th>\n",
       "      <th></th>\n",
       "      <th></th>\n",
       "      <th></th>\n",
       "    </tr>\n",
       "  </thead>\n",
       "  <tbody>\n",
       "    <tr>\n",
       "      <th>10</th>\n",
       "      <td>224</td>\n",
       "      <td>0.870536</td>\n",
       "      <td>195.0</td>\n",
       "      <td>195.0</td>\n",
       "      <td>0.583832</td>\n",
       "      <td>0.583832</td>\n",
       "      <td>29.0</td>\n",
       "      <td>29.0</td>\n",
       "      <td>0.015215</td>\n",
       "      <td>0.015215</td>\n",
       "    </tr>\n",
       "    <tr>\n",
       "      <th>9</th>\n",
       "      <td>224</td>\n",
       "      <td>0.370536</td>\n",
       "      <td>83.0</td>\n",
       "      <td>278.0</td>\n",
       "      <td>0.248503</td>\n",
       "      <td>0.832335</td>\n",
       "      <td>141.0</td>\n",
       "      <td>170.0</td>\n",
       "      <td>0.073977</td>\n",
       "      <td>0.089192</td>\n",
       "    </tr>\n",
       "    <tr>\n",
       "      <th>8</th>\n",
       "      <td>224</td>\n",
       "      <td>0.107143</td>\n",
       "      <td>24.0</td>\n",
       "      <td>302.0</td>\n",
       "      <td>0.071856</td>\n",
       "      <td>0.904192</td>\n",
       "      <td>200.0</td>\n",
       "      <td>370.0</td>\n",
       "      <td>0.104932</td>\n",
       "      <td>0.194124</td>\n",
       "    </tr>\n",
       "    <tr>\n",
       "      <th>7</th>\n",
       "      <td>224</td>\n",
       "      <td>0.040179</td>\n",
       "      <td>9.0</td>\n",
       "      <td>311.0</td>\n",
       "      <td>0.026946</td>\n",
       "      <td>0.931138</td>\n",
       "      <td>215.0</td>\n",
       "      <td>585.0</td>\n",
       "      <td>0.112802</td>\n",
       "      <td>0.306925</td>\n",
       "    </tr>\n",
       "    <tr>\n",
       "      <th>6</th>\n",
       "      <td>224</td>\n",
       "      <td>0.058036</td>\n",
       "      <td>13.0</td>\n",
       "      <td>324.0</td>\n",
       "      <td>0.038922</td>\n",
       "      <td>0.970060</td>\n",
       "      <td>211.0</td>\n",
       "      <td>796.0</td>\n",
       "      <td>0.110703</td>\n",
       "      <td>0.417629</td>\n",
       "    </tr>\n",
       "    <tr>\n",
       "      <th>5</th>\n",
       "      <td>224</td>\n",
       "      <td>0.017857</td>\n",
       "      <td>4.0</td>\n",
       "      <td>328.0</td>\n",
       "      <td>0.011976</td>\n",
       "      <td>0.982036</td>\n",
       "      <td>220.0</td>\n",
       "      <td>1016.0</td>\n",
       "      <td>0.115425</td>\n",
       "      <td>0.533054</td>\n",
       "    </tr>\n",
       "    <tr>\n",
       "      <th>4</th>\n",
       "      <td>224</td>\n",
       "      <td>0.004464</td>\n",
       "      <td>1.0</td>\n",
       "      <td>329.0</td>\n",
       "      <td>0.002994</td>\n",
       "      <td>0.985030</td>\n",
       "      <td>223.0</td>\n",
       "      <td>1239.0</td>\n",
       "      <td>0.116999</td>\n",
       "      <td>0.650052</td>\n",
       "    </tr>\n",
       "    <tr>\n",
       "      <th>3</th>\n",
       "      <td>224</td>\n",
       "      <td>0.008929</td>\n",
       "      <td>2.0</td>\n",
       "      <td>331.0</td>\n",
       "      <td>0.005988</td>\n",
       "      <td>0.991018</td>\n",
       "      <td>222.0</td>\n",
       "      <td>1461.0</td>\n",
       "      <td>0.116474</td>\n",
       "      <td>0.766527</td>\n",
       "    </tr>\n",
       "    <tr>\n",
       "      <th>2</th>\n",
       "      <td>224</td>\n",
       "      <td>0.004464</td>\n",
       "      <td>1.0</td>\n",
       "      <td>332.0</td>\n",
       "      <td>0.002994</td>\n",
       "      <td>0.994012</td>\n",
       "      <td>223.0</td>\n",
       "      <td>1684.0</td>\n",
       "      <td>0.116999</td>\n",
       "      <td>0.883526</td>\n",
       "    </tr>\n",
       "    <tr>\n",
       "      <th>1</th>\n",
       "      <td>224</td>\n",
       "      <td>0.008929</td>\n",
       "      <td>2.0</td>\n",
       "      <td>334.0</td>\n",
       "      <td>0.005988</td>\n",
       "      <td>1.000000</td>\n",
       "      <td>222.0</td>\n",
       "      <td>1906.0</td>\n",
       "      <td>0.116474</td>\n",
       "      <td>1.000000</td>\n",
       "    </tr>\n",
       "  </tbody>\n",
       "</table>\n",
       "</div>"
      ],
      "text/plain": [
       "            count  Actual_event_rate  N_events  cum_events  event_cap  \\\n",
       "P_Rank_gbm                                                              \n",
       "10            224           0.870536     195.0       195.0   0.583832   \n",
       "9             224           0.370536      83.0       278.0   0.248503   \n",
       "8             224           0.107143      24.0       302.0   0.071856   \n",
       "7             224           0.040179       9.0       311.0   0.026946   \n",
       "6             224           0.058036      13.0       324.0   0.038922   \n",
       "5             224           0.017857       4.0       328.0   0.011976   \n",
       "4             224           0.004464       1.0       329.0   0.002994   \n",
       "3             224           0.008929       2.0       331.0   0.005988   \n",
       "2             224           0.004464       1.0       332.0   0.002994   \n",
       "1             224           0.008929       2.0       334.0   0.005988   \n",
       "\n",
       "            cum_event_cap  N_non_events  cum_non_events  non_event_cap  \\\n",
       "P_Rank_gbm                                                               \n",
       "10               0.583832          29.0            29.0       0.015215   \n",
       "9                0.832335         141.0           170.0       0.073977   \n",
       "8                0.904192         200.0           370.0       0.104932   \n",
       "7                0.931138         215.0           585.0       0.112802   \n",
       "6                0.970060         211.0           796.0       0.110703   \n",
       "5                0.982036         220.0          1016.0       0.115425   \n",
       "4                0.985030         223.0          1239.0       0.116999   \n",
       "3                0.991018         222.0          1461.0       0.116474   \n",
       "2                0.994012         223.0          1684.0       0.116999   \n",
       "1                1.000000         222.0          1906.0       0.116474   \n",
       "\n",
       "            cum_non_event_cap  \n",
       "P_Rank_gbm                     \n",
       "10                   0.015215  \n",
       "9                    0.089192  \n",
       "8                    0.194124  \n",
       "7                    0.306925  \n",
       "6                    0.417629  \n",
       "5                    0.533054  \n",
       "4                    0.650052  \n",
       "3                    0.766527  \n",
       "2                    0.883526  \n",
       "1                    1.000000  "
      ]
     },
     "execution_count": 118,
     "metadata": {},
     "output_type": "execute_result"
    }
   ],
   "source": [
    "rank_df['N_non_events']=rank_df['count']-rank_df['N_events']\n",
    "rank_df['cum_non_events']=rank_df['N_non_events'].cumsum()\n",
    "rank_df['non_event_cap']=rank_df['N_non_events']/max(rank_df['N_non_events'].cumsum())\n",
    "rank_df['cum_non_event_cap']=rank_df['non_event_cap'].cumsum()\n",
    "rank_df"
   ]
  },
  {
   "cell_type": "markdown",
   "metadata": {},
   "source": [
    "# Step 6 - Compute KS Statistic and Lift over Baseline Event Rate"
   ]
  },
  {
   "cell_type": "code",
   "execution_count": 119,
   "metadata": {},
   "outputs": [
    {
     "data": {
      "text/html": [
       "<div>\n",
       "<style scoped>\n",
       "    .dataframe tbody tr th:only-of-type {\n",
       "        vertical-align: middle;\n",
       "    }\n",
       "\n",
       "    .dataframe tbody tr th {\n",
       "        vertical-align: top;\n",
       "    }\n",
       "\n",
       "    .dataframe thead th {\n",
       "        text-align: right;\n",
       "    }\n",
       "</style>\n",
       "<table border=\"1\" class=\"dataframe\">\n",
       "  <thead>\n",
       "    <tr style=\"text-align: right;\">\n",
       "      <th></th>\n",
       "      <th>count</th>\n",
       "      <th>Actual_event_rate</th>\n",
       "      <th>N_events</th>\n",
       "      <th>cum_events</th>\n",
       "      <th>event_cap</th>\n",
       "      <th>cum_event_cap</th>\n",
       "      <th>N_non_events</th>\n",
       "      <th>cum_non_events</th>\n",
       "      <th>non_event_cap</th>\n",
       "      <th>cum_non_event_cap</th>\n",
       "      <th>KS</th>\n",
       "      <th>Baseline_Event_Rate</th>\n",
       "      <th>Lift_over_Avg</th>\n",
       "    </tr>\n",
       "    <tr>\n",
       "      <th>P_Rank_gbm</th>\n",
       "      <th></th>\n",
       "      <th></th>\n",
       "      <th></th>\n",
       "      <th></th>\n",
       "      <th></th>\n",
       "      <th></th>\n",
       "      <th></th>\n",
       "      <th></th>\n",
       "      <th></th>\n",
       "      <th></th>\n",
       "      <th></th>\n",
       "      <th></th>\n",
       "      <th></th>\n",
       "    </tr>\n",
       "  </thead>\n",
       "  <tbody>\n",
       "    <tr>\n",
       "      <th>10</th>\n",
       "      <td>224</td>\n",
       "      <td>0.870536</td>\n",
       "      <td>195.0</td>\n",
       "      <td>195.0</td>\n",
       "      <td>0.583832</td>\n",
       "      <td>0.583832</td>\n",
       "      <td>29.0</td>\n",
       "      <td>29.0</td>\n",
       "      <td>0.015215</td>\n",
       "      <td>0.015215</td>\n",
       "      <td>0.5686</td>\n",
       "      <td>0.149107</td>\n",
       "      <td>5.838323</td>\n",
       "    </tr>\n",
       "    <tr>\n",
       "      <th>9</th>\n",
       "      <td>224</td>\n",
       "      <td>0.370536</td>\n",
       "      <td>83.0</td>\n",
       "      <td>278.0</td>\n",
       "      <td>0.248503</td>\n",
       "      <td>0.832335</td>\n",
       "      <td>141.0</td>\n",
       "      <td>170.0</td>\n",
       "      <td>0.073977</td>\n",
       "      <td>0.089192</td>\n",
       "      <td>0.7431</td>\n",
       "      <td>0.149107</td>\n",
       "      <td>2.485030</td>\n",
       "    </tr>\n",
       "    <tr>\n",
       "      <th>8</th>\n",
       "      <td>224</td>\n",
       "      <td>0.107143</td>\n",
       "      <td>24.0</td>\n",
       "      <td>302.0</td>\n",
       "      <td>0.071856</td>\n",
       "      <td>0.904192</td>\n",
       "      <td>200.0</td>\n",
       "      <td>370.0</td>\n",
       "      <td>0.104932</td>\n",
       "      <td>0.194124</td>\n",
       "      <td>0.7101</td>\n",
       "      <td>0.149107</td>\n",
       "      <td>0.718563</td>\n",
       "    </tr>\n",
       "    <tr>\n",
       "      <th>7</th>\n",
       "      <td>224</td>\n",
       "      <td>0.040179</td>\n",
       "      <td>9.0</td>\n",
       "      <td>311.0</td>\n",
       "      <td>0.026946</td>\n",
       "      <td>0.931138</td>\n",
       "      <td>215.0</td>\n",
       "      <td>585.0</td>\n",
       "      <td>0.112802</td>\n",
       "      <td>0.306925</td>\n",
       "      <td>0.6242</td>\n",
       "      <td>0.149107</td>\n",
       "      <td>0.269461</td>\n",
       "    </tr>\n",
       "    <tr>\n",
       "      <th>6</th>\n",
       "      <td>224</td>\n",
       "      <td>0.058036</td>\n",
       "      <td>13.0</td>\n",
       "      <td>324.0</td>\n",
       "      <td>0.038922</td>\n",
       "      <td>0.970060</td>\n",
       "      <td>211.0</td>\n",
       "      <td>796.0</td>\n",
       "      <td>0.110703</td>\n",
       "      <td>0.417629</td>\n",
       "      <td>0.5524</td>\n",
       "      <td>0.149107</td>\n",
       "      <td>0.389222</td>\n",
       "    </tr>\n",
       "    <tr>\n",
       "      <th>5</th>\n",
       "      <td>224</td>\n",
       "      <td>0.017857</td>\n",
       "      <td>4.0</td>\n",
       "      <td>328.0</td>\n",
       "      <td>0.011976</td>\n",
       "      <td>0.982036</td>\n",
       "      <td>220.0</td>\n",
       "      <td>1016.0</td>\n",
       "      <td>0.115425</td>\n",
       "      <td>0.533054</td>\n",
       "      <td>0.4490</td>\n",
       "      <td>0.149107</td>\n",
       "      <td>0.119760</td>\n",
       "    </tr>\n",
       "    <tr>\n",
       "      <th>4</th>\n",
       "      <td>224</td>\n",
       "      <td>0.004464</td>\n",
       "      <td>1.0</td>\n",
       "      <td>329.0</td>\n",
       "      <td>0.002994</td>\n",
       "      <td>0.985030</td>\n",
       "      <td>223.0</td>\n",
       "      <td>1239.0</td>\n",
       "      <td>0.116999</td>\n",
       "      <td>0.650052</td>\n",
       "      <td>0.3350</td>\n",
       "      <td>0.149107</td>\n",
       "      <td>0.029940</td>\n",
       "    </tr>\n",
       "    <tr>\n",
       "      <th>3</th>\n",
       "      <td>224</td>\n",
       "      <td>0.008929</td>\n",
       "      <td>2.0</td>\n",
       "      <td>331.0</td>\n",
       "      <td>0.005988</td>\n",
       "      <td>0.991018</td>\n",
       "      <td>222.0</td>\n",
       "      <td>1461.0</td>\n",
       "      <td>0.116474</td>\n",
       "      <td>0.766527</td>\n",
       "      <td>0.2245</td>\n",
       "      <td>0.149107</td>\n",
       "      <td>0.059880</td>\n",
       "    </tr>\n",
       "    <tr>\n",
       "      <th>2</th>\n",
       "      <td>224</td>\n",
       "      <td>0.004464</td>\n",
       "      <td>1.0</td>\n",
       "      <td>332.0</td>\n",
       "      <td>0.002994</td>\n",
       "      <td>0.994012</td>\n",
       "      <td>223.0</td>\n",
       "      <td>1684.0</td>\n",
       "      <td>0.116999</td>\n",
       "      <td>0.883526</td>\n",
       "      <td>0.1105</td>\n",
       "      <td>0.149107</td>\n",
       "      <td>0.029940</td>\n",
       "    </tr>\n",
       "    <tr>\n",
       "      <th>1</th>\n",
       "      <td>224</td>\n",
       "      <td>0.008929</td>\n",
       "      <td>2.0</td>\n",
       "      <td>334.0</td>\n",
       "      <td>0.005988</td>\n",
       "      <td>1.000000</td>\n",
       "      <td>222.0</td>\n",
       "      <td>1906.0</td>\n",
       "      <td>0.116474</td>\n",
       "      <td>1.000000</td>\n",
       "      <td>0.0000</td>\n",
       "      <td>0.149107</td>\n",
       "      <td>0.059880</td>\n",
       "    </tr>\n",
       "  </tbody>\n",
       "</table>\n",
       "</div>"
      ],
      "text/plain": [
       "            count  Actual_event_rate  N_events  cum_events  event_cap  \\\n",
       "P_Rank_gbm                                                              \n",
       "10            224           0.870536     195.0       195.0   0.583832   \n",
       "9             224           0.370536      83.0       278.0   0.248503   \n",
       "8             224           0.107143      24.0       302.0   0.071856   \n",
       "7             224           0.040179       9.0       311.0   0.026946   \n",
       "6             224           0.058036      13.0       324.0   0.038922   \n",
       "5             224           0.017857       4.0       328.0   0.011976   \n",
       "4             224           0.004464       1.0       329.0   0.002994   \n",
       "3             224           0.008929       2.0       331.0   0.005988   \n",
       "2             224           0.004464       1.0       332.0   0.002994   \n",
       "1             224           0.008929       2.0       334.0   0.005988   \n",
       "\n",
       "            cum_event_cap  N_non_events  cum_non_events  non_event_cap  \\\n",
       "P_Rank_gbm                                                               \n",
       "10               0.583832          29.0            29.0       0.015215   \n",
       "9                0.832335         141.0           170.0       0.073977   \n",
       "8                0.904192         200.0           370.0       0.104932   \n",
       "7                0.931138         215.0           585.0       0.112802   \n",
       "6                0.970060         211.0           796.0       0.110703   \n",
       "5                0.982036         220.0          1016.0       0.115425   \n",
       "4                0.985030         223.0          1239.0       0.116999   \n",
       "3                0.991018         222.0          1461.0       0.116474   \n",
       "2                0.994012         223.0          1684.0       0.116999   \n",
       "1                1.000000         222.0          1906.0       0.116474   \n",
       "\n",
       "            cum_non_event_cap      KS  Baseline_Event_Rate  Lift_over_Avg  \n",
       "P_Rank_gbm                                                                 \n",
       "10                   0.015215  0.5686             0.149107       5.838323  \n",
       "9                    0.089192  0.7431             0.149107       2.485030  \n",
       "8                    0.194124  0.7101             0.149107       0.718563  \n",
       "7                    0.306925  0.6242             0.149107       0.269461  \n",
       "6                    0.417629  0.5524             0.149107       0.389222  \n",
       "5                    0.533054  0.4490             0.149107       0.119760  \n",
       "4                    0.650052  0.3350             0.149107       0.029940  \n",
       "3                    0.766527  0.2245             0.149107       0.059880  \n",
       "2                    0.883526  0.1105             0.149107       0.029940  \n",
       "1                    1.000000  0.0000             0.149107       0.059880  "
      ]
     },
     "execution_count": 119,
     "metadata": {},
     "output_type": "execute_result"
    }
   ],
   "source": [
    "rank_df['KS']=round((rank_df['cum_event_cap']-rank_df['cum_non_event_cap']),4)\n",
    "rank_df['Baseline_Event_Rate']=(max(rank_df['cum_events'])/max(rank_df['count'].cumsum()))\n",
    "rank_df['Lift_over_Avg']=rank_df['Actual_event_rate']/rank_df['Baseline_Event_Rate']\n",
    "rank_df"
   ]
  },
  {
   "cell_type": "markdown",
   "metadata": {},
   "source": [
    "# Step 7 - Create Deciles (1-10) column to indicate the Decile number"
   ]
  },
  {
   "cell_type": "code",
   "execution_count": 120,
   "metadata": {},
   "outputs": [
    {
     "data": {
      "text/html": [
       "<div>\n",
       "<style scoped>\n",
       "    .dataframe tbody tr th:only-of-type {\n",
       "        vertical-align: middle;\n",
       "    }\n",
       "\n",
       "    .dataframe tbody tr th {\n",
       "        vertical-align: top;\n",
       "    }\n",
       "\n",
       "    .dataframe thead th {\n",
       "        text-align: right;\n",
       "    }\n",
       "</style>\n",
       "<table border=\"1\" class=\"dataframe\">\n",
       "  <thead>\n",
       "    <tr style=\"text-align: right;\">\n",
       "      <th></th>\n",
       "      <th>P_Rank_gbm</th>\n",
       "      <th>count</th>\n",
       "      <th>Actual_event_rate</th>\n",
       "      <th>N_events</th>\n",
       "      <th>cum_events</th>\n",
       "      <th>event_cap</th>\n",
       "      <th>cum_event_cap</th>\n",
       "      <th>N_non_events</th>\n",
       "      <th>cum_non_events</th>\n",
       "      <th>non_event_cap</th>\n",
       "      <th>cum_non_event_cap</th>\n",
       "      <th>KS</th>\n",
       "      <th>Baseline_Event_Rate</th>\n",
       "      <th>Lift_over_Avg</th>\n",
       "      <th>Decile</th>\n",
       "    </tr>\n",
       "  </thead>\n",
       "  <tbody>\n",
       "    <tr>\n",
       "      <th>0</th>\n",
       "      <td>10</td>\n",
       "      <td>224</td>\n",
       "      <td>0.870536</td>\n",
       "      <td>195.0</td>\n",
       "      <td>195.0</td>\n",
       "      <td>0.583832</td>\n",
       "      <td>0.583832</td>\n",
       "      <td>29.0</td>\n",
       "      <td>29.0</td>\n",
       "      <td>0.015215</td>\n",
       "      <td>0.015215</td>\n",
       "      <td>0.5686</td>\n",
       "      <td>0.149107</td>\n",
       "      <td>5.838323</td>\n",
       "      <td>1</td>\n",
       "    </tr>\n",
       "    <tr>\n",
       "      <th>1</th>\n",
       "      <td>9</td>\n",
       "      <td>224</td>\n",
       "      <td>0.370536</td>\n",
       "      <td>83.0</td>\n",
       "      <td>278.0</td>\n",
       "      <td>0.248503</td>\n",
       "      <td>0.832335</td>\n",
       "      <td>141.0</td>\n",
       "      <td>170.0</td>\n",
       "      <td>0.073977</td>\n",
       "      <td>0.089192</td>\n",
       "      <td>0.7431</td>\n",
       "      <td>0.149107</td>\n",
       "      <td>2.485030</td>\n",
       "      <td>2</td>\n",
       "    </tr>\n",
       "    <tr>\n",
       "      <th>2</th>\n",
       "      <td>8</td>\n",
       "      <td>224</td>\n",
       "      <td>0.107143</td>\n",
       "      <td>24.0</td>\n",
       "      <td>302.0</td>\n",
       "      <td>0.071856</td>\n",
       "      <td>0.904192</td>\n",
       "      <td>200.0</td>\n",
       "      <td>370.0</td>\n",
       "      <td>0.104932</td>\n",
       "      <td>0.194124</td>\n",
       "      <td>0.7101</td>\n",
       "      <td>0.149107</td>\n",
       "      <td>0.718563</td>\n",
       "      <td>3</td>\n",
       "    </tr>\n",
       "    <tr>\n",
       "      <th>3</th>\n",
       "      <td>7</td>\n",
       "      <td>224</td>\n",
       "      <td>0.040179</td>\n",
       "      <td>9.0</td>\n",
       "      <td>311.0</td>\n",
       "      <td>0.026946</td>\n",
       "      <td>0.931138</td>\n",
       "      <td>215.0</td>\n",
       "      <td>585.0</td>\n",
       "      <td>0.112802</td>\n",
       "      <td>0.306925</td>\n",
       "      <td>0.6242</td>\n",
       "      <td>0.149107</td>\n",
       "      <td>0.269461</td>\n",
       "      <td>4</td>\n",
       "    </tr>\n",
       "    <tr>\n",
       "      <th>4</th>\n",
       "      <td>6</td>\n",
       "      <td>224</td>\n",
       "      <td>0.058036</td>\n",
       "      <td>13.0</td>\n",
       "      <td>324.0</td>\n",
       "      <td>0.038922</td>\n",
       "      <td>0.970060</td>\n",
       "      <td>211.0</td>\n",
       "      <td>796.0</td>\n",
       "      <td>0.110703</td>\n",
       "      <td>0.417629</td>\n",
       "      <td>0.5524</td>\n",
       "      <td>0.149107</td>\n",
       "      <td>0.389222</td>\n",
       "      <td>5</td>\n",
       "    </tr>\n",
       "    <tr>\n",
       "      <th>5</th>\n",
       "      <td>5</td>\n",
       "      <td>224</td>\n",
       "      <td>0.017857</td>\n",
       "      <td>4.0</td>\n",
       "      <td>328.0</td>\n",
       "      <td>0.011976</td>\n",
       "      <td>0.982036</td>\n",
       "      <td>220.0</td>\n",
       "      <td>1016.0</td>\n",
       "      <td>0.115425</td>\n",
       "      <td>0.533054</td>\n",
       "      <td>0.4490</td>\n",
       "      <td>0.149107</td>\n",
       "      <td>0.119760</td>\n",
       "      <td>6</td>\n",
       "    </tr>\n",
       "    <tr>\n",
       "      <th>6</th>\n",
       "      <td>4</td>\n",
       "      <td>224</td>\n",
       "      <td>0.004464</td>\n",
       "      <td>1.0</td>\n",
       "      <td>329.0</td>\n",
       "      <td>0.002994</td>\n",
       "      <td>0.985030</td>\n",
       "      <td>223.0</td>\n",
       "      <td>1239.0</td>\n",
       "      <td>0.116999</td>\n",
       "      <td>0.650052</td>\n",
       "      <td>0.3350</td>\n",
       "      <td>0.149107</td>\n",
       "      <td>0.029940</td>\n",
       "      <td>7</td>\n",
       "    </tr>\n",
       "    <tr>\n",
       "      <th>7</th>\n",
       "      <td>3</td>\n",
       "      <td>224</td>\n",
       "      <td>0.008929</td>\n",
       "      <td>2.0</td>\n",
       "      <td>331.0</td>\n",
       "      <td>0.005988</td>\n",
       "      <td>0.991018</td>\n",
       "      <td>222.0</td>\n",
       "      <td>1461.0</td>\n",
       "      <td>0.116474</td>\n",
       "      <td>0.766527</td>\n",
       "      <td>0.2245</td>\n",
       "      <td>0.149107</td>\n",
       "      <td>0.059880</td>\n",
       "      <td>8</td>\n",
       "    </tr>\n",
       "    <tr>\n",
       "      <th>8</th>\n",
       "      <td>2</td>\n",
       "      <td>224</td>\n",
       "      <td>0.004464</td>\n",
       "      <td>1.0</td>\n",
       "      <td>332.0</td>\n",
       "      <td>0.002994</td>\n",
       "      <td>0.994012</td>\n",
       "      <td>223.0</td>\n",
       "      <td>1684.0</td>\n",
       "      <td>0.116999</td>\n",
       "      <td>0.883526</td>\n",
       "      <td>0.1105</td>\n",
       "      <td>0.149107</td>\n",
       "      <td>0.029940</td>\n",
       "      <td>9</td>\n",
       "    </tr>\n",
       "    <tr>\n",
       "      <th>9</th>\n",
       "      <td>1</td>\n",
       "      <td>224</td>\n",
       "      <td>0.008929</td>\n",
       "      <td>2.0</td>\n",
       "      <td>334.0</td>\n",
       "      <td>0.005988</td>\n",
       "      <td>1.000000</td>\n",
       "      <td>222.0</td>\n",
       "      <td>1906.0</td>\n",
       "      <td>0.116474</td>\n",
       "      <td>1.000000</td>\n",
       "      <td>0.0000</td>\n",
       "      <td>0.149107</td>\n",
       "      <td>0.059880</td>\n",
       "      <td>10</td>\n",
       "    </tr>\n",
       "  </tbody>\n",
       "</table>\n",
       "</div>"
      ],
      "text/plain": [
       "   P_Rank_gbm  count  Actual_event_rate  N_events  cum_events  event_cap  \\\n",
       "0          10    224           0.870536     195.0       195.0   0.583832   \n",
       "1           9    224           0.370536      83.0       278.0   0.248503   \n",
       "2           8    224           0.107143      24.0       302.0   0.071856   \n",
       "3           7    224           0.040179       9.0       311.0   0.026946   \n",
       "4           6    224           0.058036      13.0       324.0   0.038922   \n",
       "5           5    224           0.017857       4.0       328.0   0.011976   \n",
       "6           4    224           0.004464       1.0       329.0   0.002994   \n",
       "7           3    224           0.008929       2.0       331.0   0.005988   \n",
       "8           2    224           0.004464       1.0       332.0   0.002994   \n",
       "9           1    224           0.008929       2.0       334.0   0.005988   \n",
       "\n",
       "   cum_event_cap  N_non_events  cum_non_events  non_event_cap  \\\n",
       "0       0.583832          29.0            29.0       0.015215   \n",
       "1       0.832335         141.0           170.0       0.073977   \n",
       "2       0.904192         200.0           370.0       0.104932   \n",
       "3       0.931138         215.0           585.0       0.112802   \n",
       "4       0.970060         211.0           796.0       0.110703   \n",
       "5       0.982036         220.0          1016.0       0.115425   \n",
       "6       0.985030         223.0          1239.0       0.116999   \n",
       "7       0.991018         222.0          1461.0       0.116474   \n",
       "8       0.994012         223.0          1684.0       0.116999   \n",
       "9       1.000000         222.0          1906.0       0.116474   \n",
       "\n",
       "   cum_non_event_cap      KS  Baseline_Event_Rate  Lift_over_Avg  Decile  \n",
       "0           0.015215  0.5686             0.149107       5.838323       1  \n",
       "1           0.089192  0.7431             0.149107       2.485030       2  \n",
       "2           0.194124  0.7101             0.149107       0.718563       3  \n",
       "3           0.306925  0.6242             0.149107       0.269461       4  \n",
       "4           0.417629  0.5524             0.149107       0.389222       5  \n",
       "5           0.533054  0.4490             0.149107       0.119760       6  \n",
       "6           0.650052  0.3350             0.149107       0.029940       7  \n",
       "7           0.766527  0.2245             0.149107       0.059880       8  \n",
       "8           0.883526  0.1105             0.149107       0.029940       9  \n",
       "9           1.000000  0.0000             0.149107       0.059880      10  "
      ]
     },
     "execution_count": 120,
     "metadata": {},
     "output_type": "execute_result"
    }
   ],
   "source": [
    "rank_df=rank_df.reset_index()\n",
    "rank_df['Decile']=rank_df.index+1\n",
    "rank_df"
   ]
  },
  {
   "cell_type": "markdown",
   "metadata": {},
   "source": [
    "# Visualizing the performance of Model Probabilties across Deciles"
   ]
  },
  {
   "cell_type": "markdown",
   "metadata": {},
   "source": [
    "# Step 8 - Create the Rank Ordering Chart"
   ]
  },
  {
   "cell_type": "code",
   "execution_count": 121,
   "metadata": {},
   "outputs": [
    {
     "data": {
      "text/plain": [
       "<matplotlib.legend.Legend at 0x1bb884b65e0>"
      ]
     },
     "execution_count": 121,
     "metadata": {},
     "output_type": "execute_result"
    },
    {
     "data": {
      "image/png": "[encoded data removed]",
      "text/plain": [
       "<Figure size 432x288 with 1 Axes>"
      ]
     },
     "metadata": {
      "needs_background": "light"
     },
     "output_type": "display_data"
    }
   ],
   "source": [
    "ax = sns.lineplot(x=\"Decile\", y=\"Actual_event_rate\", data=rank_df,color='green').set_title('Rank Ordering Chart')\n",
    "ax = sns.scatterplot( x=\"Decile\", y=\"Baseline_Event_Rate\", data=rank_df,color='red')\n",
    "ax.legend(['Actual_event_rate', 'Baseline_Event_Rate'])"
   ]
  },
  {
   "cell_type": "markdown",
   "metadata": {},
   "source": [
    "# Step 9 - Create the Lift Chart"
   ]
  },
  {
   "cell_type": "code",
   "execution_count": 122,
   "metadata": {},
   "outputs": [
    {
     "data": {
      "image/png": "[encoded data removed]",
      "text/plain": [
       "<Figure size 432x288 with 1 Axes>"
      ]
     },
     "metadata": {
      "needs_background": "light"
     },
     "output_type": "display_data"
    }
   ],
   "source": [
    "ax = sns.barplot( x=\"Decile\", y=\"Lift_over_Avg\", data=rank_df,color='blue').set_title('Lift Chart')"
   ]
  },
  {
   "cell_type": "markdown",
   "metadata": {},
   "source": [
    "# Step 10 - Create the Gains Chart / Lorenz Curve"
   ]
  },
  {
   "cell_type": "code",
   "execution_count": 123,
   "metadata": {},
   "outputs": [
    {
     "data": {
      "text/plain": [
       "<matplotlib.legend.Legend at 0x1bb885ee730>"
      ]
     },
     "execution_count": 123,
     "metadata": {},
     "output_type": "execute_result"
    },
    {
     "data": {
      "image/png": "[encoded data removed]",
      "text/plain": [
       "<Figure size 432x288 with 1 Axes>"
      ]
     },
     "metadata": {
      "needs_background": "light"
     },
     "output_type": "display_data"
    }
   ],
   "source": [
    "ax = sns.lineplot( x=\"Decile\", y=\"cum_event_cap\", data=rank_df,color='red').set_title('Rank Ordering Chart')\n",
    "ax = sns.lineplot( x=\"Decile\", y=\"cum_non_event_cap\", data=rank_df,color='green')\n",
    "ax.legend(['cum_event_cap', 'cum_non_event_cap'])"
   ]
  },
  {
   "cell_type": "markdown",
   "metadata": {},
   "source": [
    "# Is our Model able to Maximise Event/Non-Event Discrimination by the Top 3 deciles?"
   ]
  },
  {
   "cell_type": "code",
   "execution_count": 124,
   "metadata": {},
   "outputs": [
    {
     "data": {
      "text/plain": [
       "<matplotlib.legend.Legend at 0x1bb885d1970>"
      ]
     },
     "execution_count": 124,
     "metadata": {},
     "output_type": "execute_result"
    },
    {
     "data": {
      "image/png": "[encoded data removed]",
      "text/plain": [
       "<Figure size 432x288 with 1 Axes>"
      ]
     },
     "metadata": {
      "needs_background": "light"
     },
     "output_type": "display_data"
    }
   ],
   "source": [
    "ax = sns.barplot( x=\"Decile\", y=\"KS\", data=rank_df,color='brown')\n",
    "ax.legend(['KS'])"
   ]
  },
  {
   "cell_type": "markdown",
   "metadata": {},
   "source": [
    "# Utlize APT framework to build a Machine Learning Driven Strategy"
   ]
  },
  {
   "cell_type": "markdown",
   "metadata": {},
   "source": [
    "# A - Audience (Who do we target?)"
   ]
  },
  {
   "cell_type": "code",
   "execution_count": 125,
   "metadata": {},
   "outputs": [
    {
     "data": {
      "text/plain": [
       "Bottom 8    1792\n",
       "Top 2        448\n",
       "Name: Predicted_Resp_Rank, dtype: int64"
      ]
     },
     "execution_count": 125,
     "metadata": {},
     "output_type": "execute_result"
    }
   ],
   "source": [
    "df['Predicted_Resp_Rank']=np.where(df['P_Rank_gbm']>=9,\"Top 2\",\"Bottom 8\")\n",
    "df['Predicted_Resp_Rank'].value_counts()"
   ]
  },
  {
   "cell_type": "code",
   "execution_count": 126,
   "metadata": {},
   "outputs": [
    {
     "data": {
      "text/plain": [
       "(448, 31)"
      ]
     },
     "execution_count": 126,
     "metadata": {},
     "output_type": "execute_result"
    }
   ],
   "source": [
    "df_top2=df.loc[df['Predicted_Resp_Rank']==\"Top 2\",:]\n",
    "df_top2.shape"
   ]
  },
  {
   "cell_type": "markdown",
   "metadata": {},
   "source": [
    "# P - Prioritization (Based on Business Value and Customer Engagement)"
   ]
  },
  {
   "cell_type": "code",
   "execution_count": 127,
   "metadata": {},
   "outputs": [
    {
     "data": {
      "text/plain": [
       "count    448.000000\n",
       "mean       5.569196\n",
       "std        0.824479\n",
       "min        3.000000\n",
       "25%        5.000000\n",
       "50%        6.000000\n",
       "75%        6.000000\n",
       "max        6.000000\n",
       "Name: spend_cnt, dtype: float64"
      ]
     },
     "execution_count": 127,
     "metadata": {},
     "output_type": "execute_result"
    }
   ],
   "source": [
    "df_top2['spend_cnt']=np.count_nonzero(df_top2[['MntWines','MntFruits','MntMeatProducts','MntFishProducts','MntSweetProducts','MntGoldProds']],axis=1)\n",
    "df_top2['spend_cnt'].describe()"
   ]
  },
  {
   "cell_type": "code",
   "execution_count": null,
   "metadata": {},
   "outputs": [],
   "source": [
    "df_top2['Engagement']=np.where(df_top2['spend_cnt']<df_top2['spend_cnt'].quantile(0.75),\"Low\",\"High\")\n",
    "df_top2['Engagement'].value_counts()"
   ]
  },
  {
   "cell_type": "code",
   "execution_count": null,
   "metadata": {},
   "outputs": [],
   "source": [
    "df_top2['Total_Spend']=df_top2['MntWines']+df_top2['MntFruits']+df_top2['MntMeatProducts']+df_top2['MntFishProducts']+df_top2['MntSweetProducts']+df_top2['MntGoldProds']\n",
    "df_top2['Total_Spend'].describe()"
   ]
  },
  {
   "cell_type": "code",
   "execution_count": null,
   "metadata": {},
   "outputs": [],
   "source": [
    "df_top2['spend_level']=np.where(df_top2['Total_Spend']<df_top2['Total_Spend'].quantile(0.75),\"Low Spend\",\"High Spend\")\n",
    "df_top2['spend_level'].value_counts()"
   ]
  },
  {
   "cell_type": "code",
   "execution_count": null,
   "metadata": {},
   "outputs": [],
   "source": [
    "pd.crosstab(index=df_top2['spend_level'], columns=df_top2['Engagement'],values=df_top2['Response'],aggfunc='mean')"
   ]
  },
  {
   "cell_type": "code",
   "execution_count": null,
   "metadata": {
    "scrolled": true
   },
   "outputs": [],
   "source": [
    "pd.crosstab(index=df_top2['spend_level'], columns=df_top2['Engagement'],values=df_top2['Response'],aggfunc='count')"
   ]
  },
  {
   "cell_type": "code",
   "execution_count": null,
   "metadata": {},
   "outputs": [],
   "source": [
    "df_priority_1=df_top2.loc[(df_top2['spend_level']=='High Spend') & (df_top2['Engagement']=='Low'),:]\n",
    "df_priority_1.shape"
   ]
  },
  {
   "cell_type": "code",
   "execution_count": null,
   "metadata": {},
   "outputs": [],
   "source": [
    "df_priority_2=df_top2.loc[(df_top2['spend_level']=='High Spend') & (df_top2['Engagement']=='High'),:]\n",
    "df_priority_2.shape"
   ]
  },
  {
   "cell_type": "code",
   "execution_count": null,
   "metadata": {},
   "outputs": [],
   "source": [
    "df_priority_3=df_top2.loc[(df_top2['spend_level']=='Low Spend') & (df_top2['Engagement']=='High'),:]\n",
    "df_priority_3.shape"
   ]
  },
  {
   "cell_type": "code",
   "execution_count": null,
   "metadata": {},
   "outputs": [],
   "source": [
    "df_priority_4=df_top2.loc[(df_top2['spend_level']=='Low Spend') & (df_top2['Engagement']=='Low'),:]\n",
    "df_priority_4.shape"
   ]
  },
  {
   "cell_type": "markdown",
   "metadata": {},
   "source": [
    "# T - Treatment (Identify Service/Product Preferences of each Priority Segment)"
   ]
  },
  {
   "cell_type": "code",
   "execution_count": null,
   "metadata": {},
   "outputs": [],
   "source": [
    "spend_cat_priority1=df_priority_1[['MntWines','MntFruits','MntMeatProducts','MntFishProducts','MntSweetProducts','MntGoldProds']]"
   ]
  },
  {
   "cell_type": "code",
   "execution_count": null,
   "metadata": {
    "scrolled": true
   },
   "outputs": [],
   "source": [
    "spend_avg = spend_cat_priority1.mean(axis=0).sort_values(ascending=False)\n",
    "spend_avg"
   ]
  },
  {
   "cell_type": "code",
   "execution_count": null,
   "metadata": {},
   "outputs": [],
   "source": [
    "spend_cat_priority2=df_priority_2[['MntWines','MntFruits','MntMeatProducts','MntFishProducts','MntSweetProducts','MntGoldProds']]"
   ]
  },
  {
   "cell_type": "code",
   "execution_count": null,
   "metadata": {
    "scrolled": true
   },
   "outputs": [],
   "source": [
    "spend_avg = spend_cat_priority2.mean(axis=0).sort_values(ascending=False)\n",
    "spend_avg"
   ]
  },
  {
   "cell_type": "code",
   "execution_count": null,
   "metadata": {},
   "outputs": [],
   "source": [
    "spend_cat_priority3=df_priority_3[['MntWines','MntFruits','MntMeatProducts','MntFishProducts','MntSweetProducts','MntGoldProds']]"
   ]
  },
  {
   "cell_type": "code",
   "execution_count": null,
   "metadata": {},
   "outputs": [],
   "source": [
    "spend_avg = spend_cat_priority3.mean(axis=0).sort_values(ascending=False)\n",
    "spend_avg"
   ]
  },
  {
   "cell_type": "code",
   "execution_count": null,
   "metadata": {},
   "outputs": [],
   "source": [
    "spend_cat_priority4=df_priority_4[['MntWines','MntFruits','MntMeatProducts','MntFishProducts','MntSweetProducts','MntGoldProds']]"
   ]
  },
  {
   "cell_type": "code",
   "execution_count": null,
   "metadata": {
    "scrolled": true
   },
   "outputs": [],
   "source": [
    "spend_avg = spend_cat_priority4.mean(axis=0).sort_values(ascending=False)\n",
    "spend_avg"
   ]
  },
  {
   "cell_type": "markdown",
   "metadata": {},
   "source": [
    "# Project Report and Actionable Insights"
   ]
  },
  {
   "cell_type": "markdown",
   "metadata": {},
   "source": [
    "# Objective of the Project\n",
    "Leverage the spend behavior and past campaign responses to build a response model that can\n",
    "be used to devise a strategy that enhances the response rates and improves profitability of marketing campaigns"
   ]
  },
  {
   "cell_type": "markdown",
   "metadata": {},
   "source": [
    "# Baseline Event Rate\n",
    "The Response Rate from the data is 14.9%"
   ]
  },
  {
   "cell_type": "markdown",
   "metadata": {},
   "source": [
    "# Algorithms Used :\n",
    "In this project we have used Logistic Regression, Decision Trees, Random Forests and Gradient Boosting Algorithms"
   ]
  },
  {
   "cell_type": "markdown",
   "metadata": {},
   "source": [
    "# Final Model Algorithm\n",
    "Among the models that we tried building the GBM Algorithm performed the best in terms of F1_Score, Area under ROC Curve\n",
    "and overall Model Gini\n",
    "\n",
    "Therefore we have kept GBM as the final model algorithm"
   ]
  },
  {
   "cell_type": "markdown",
   "metadata": {},
   "source": [
    "# Grid Search CV parameters\n",
    "Maximum Depth of Tree - 5\n",
    "\n",
    "Minimum Sample Size for Nodes to be Split - 75 Observations"
   ]
  },
  {
   "cell_type": "markdown",
   "metadata": {},
   "source": [
    "# Model Performance Measures\n",
    "Accuracy - 0.86\n",
    "\n",
    "Precision - 0.58\n",
    "\n",
    "Recall - 0.25\n",
    "\n",
    "F1 Score - 0.35\n",
    "\n",
    "AUC - 0.61\n",
    "\n",
    "Gini - 0.22        "
   ]
  },
  {
   "cell_type": "markdown",
   "metadata": {},
   "source": [
    "# Model Probability Discrimination Measures\n",
    "Steady Event Rate Rank Ordering (Yes/No) - Yes\n",
    "\n",
    "Rank Ordering Reversals in Top 3 Deciles (Yes/No) - No\n",
    "\n",
    "Model Lift over  baseline event rate in the Top Decile - 5.8\n",
    "\n",
    "Cumulative Event Capture in the Top 3 Deciles - 90% \n",
    "\n",
    "Maximum KS Statistic Value - 0.74\n",
    "\n",
    "Does KS Statistic Maximize within Top 3 Deciles (Yes/No) - Yes \n"
   ]
  },
  {
   "cell_type": "markdown",
   "metadata": {},
   "source": [
    "# Top 10 drivers from the Model\n",
    "\n",
    "Income\n",
    "\n",
    "MntMeatProducts\n",
    "\n",
    "AcceptedCmp3_1\n",
    "\n",
    "MntFishProducts\n",
    "\n",
    "MntFruits\n",
    "\n",
    "Cust_Tenure_8.0\n",
    "\n",
    "NumCatalogPurchases_10\n",
    "\n",
    "Marital_Status_Together\n",
    "\n",
    "Marital_Status_Single\n",
    "\n",
    "Marital_Status_Married\n",
    "\n"
   ]
  },
  {
   "attachments": {
    "APTDOC~1.PNG": {
     "image/png": "[encoded data removed]"
    }
   },
   "cell_type": "markdown",
   "metadata": {},
   "source": [
    "# APT Stratgey Framework using the Model\n",
    "![APTDOC~1.PNG](attachment:APTDOC~1.PNG)"
   ]
  },
  {
   "cell_type": "code",
   "execution_count": null,
   "metadata": {},
   "outputs": [],
   "source": []
  }
 ],
 "metadata": {
  "kernelspec": {
   "display_name": "Python 3",
   "language": "python",
   "name": "python3"
  },
  "language_info": {
   "codemirror_mode": {
    "name": "ipython",
    "version": 3
   },
   "file_extension": ".py",
   "mimetype": "text/x-python",
   "name": "python",
   "nbconvert_exporter": "python",
   "pygments_lexer": "ipython3",
   "version": "3.8.5"
  }
 },
 "nbformat": 4,
 "nbformat_minor": 2
}
